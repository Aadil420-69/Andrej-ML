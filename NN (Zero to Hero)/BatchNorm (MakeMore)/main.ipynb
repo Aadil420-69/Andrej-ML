{
 "cells": [
  {
   "cell_type": "markdown",
   "id": "a4850a63-39d6-4a3e-abd4-ab6244f8c9d5",
   "metadata": {},
   "source": [
    "# Importing and Stuff"
   ]
  },
  {
   "cell_type": "code",
   "execution_count": 2,
   "id": "10b823bf-194c-4245-bc4b-f2be40c23d8c",
   "metadata": {},
   "outputs": [],
   "source": [
    "import torch\n",
    "import torch.nn.functional as F\n",
    "import matplotlib.pyplot as plt\n",
    "%matplotlib inline\n",
    "\n",
    "import random\n",
    "random.seed(42)"
   ]
  },
  {
   "cell_type": "code",
   "execution_count": 3,
   "id": "01785b17-3972-4cad-bf58-62a115b224b6",
   "metadata": {},
   "outputs": [
    {
     "data": {
      "text/plain": [
       "['emma', 'olivia', 'ava', 'isabella', 'sophia', 'charlotte', 'mia', 'amelia']"
      ]
     },
     "execution_count": 3,
     "metadata": {},
     "output_type": "execute_result"
    }
   ],
   "source": [
    "words = open('names.txt', 'r').read().splitlines()\n",
    "words[:8]"
   ]
  },
  {
   "cell_type": "code",
   "execution_count": 4,
   "id": "3de81fe0-333f-4bcf-9d2f-ec1de2d88e53",
   "metadata": {},
   "outputs": [
    {
     "data": {
      "text/plain": [
       "32033"
      ]
     },
     "execution_count": 4,
     "metadata": {},
     "output_type": "execute_result"
    }
   ],
   "source": [
    "len(words)"
   ]
  },
  {
   "cell_type": "code",
   "execution_count": 5,
   "id": "30550804-d2c5-4a65-82e1-ea506284c863",
   "metadata": {},
   "outputs": [],
   "source": [
    "# build the mapping of each letter\n",
    "\n",
    "abc = 'abcdefghijklmnopqrstuvwxyz'\n",
    "stoi = {s: i+1 for i, s in enumerate(abc)}\n",
    "stoi['.'] = 0\n",
    "itos = {i: s for s, i in stoi.items()}"
   ]
  },
  {
   "cell_type": "code",
   "execution_count": 6,
   "id": "3207056e-a836-42ee-8017-0a08205e191f",
   "metadata": {},
   "outputs": [
    {
     "name": "stdout",
     "output_type": "stream",
     "text": [
      "torch.Size([182625, 3]) torch.Size([182625])\n",
      "torch.Size([22655, 3]) torch.Size([22655])\n",
      "torch.Size([22866, 3]) torch.Size([22866])\n"
     ]
    }
   ],
   "source": [
    "block_size = 3\n",
    "\n",
    "# build the databse\n",
    "def build_dataset(words):\n",
    "    X, Y = [], []\n",
    "    for w in words:\n",
    "        context = [0] * block_size\n",
    "        for ch in w + '.':\n",
    "            ix = stoi[ch]\n",
    "            X.append(context)\n",
    "            Y.append(ix)\n",
    "            context = context[1:] + [ix]\n",
    "    \n",
    "    X = torch.tensor(X)\n",
    "    Y = torch.tensor(Y)\n",
    "    print(X.shape, Y.shape)\n",
    "    return X, Y\n",
    "\n",
    "random.shuffle(words)\n",
    "n1 = int(0.8 * len(words))\n",
    "n2 = int(0.9 * len(words))\n",
    "\n",
    "# training, dev and test split\n",
    "# 80%   10%   10%\n",
    "Xtr, Ytr = build_dataset(words[:n1])\n",
    "Xdev, Ydev = build_dataset(words[n1:n2])\n",
    "Xte, Yte = build_dataset(words[n2:])"
   ]
  },
  {
   "cell_type": "markdown",
   "id": "c3053dba-539d-44d9-b29c-5cf70f297597",
   "metadata": {},
   "source": [
    "# Neural Net"
   ]
  },
  {
   "cell_type": "markdown",
   "id": "a543b26a-0862-4c56-bff6-b7a9b6db5dea",
   "metadata": {},
   "source": [
    "## Spread out"
   ]
  },
  {
   "cell_type": "code",
   "execution_count": 7,
   "id": "5ead0646-ad6e-42b7-8532-d399e709bcf1",
   "metadata": {},
   "outputs": [
    {
     "name": "stdout",
     "output_type": "stream",
     "text": [
      "We have 12097 number of parameters!\n"
     ]
    }
   ],
   "source": [
    "# All the parameters\n",
    "n_embd = 10    # the dimensionality of the character embedding vector\n",
    "n_hidden = 200    # the number of neurons in the hidden layer of MLP\n",
    "\n",
    "g = torch.Generator().manual_seed(2147483647)\n",
    "C = torch.randn((27, n_embd),                     generator=g)\n",
    "W1 = torch.randn((n_embd * block_size, n_hidden), generator=g) * 5/3 * ((n_embd * block_size)**0.5)\n",
    "# b1 = torch.randn(n_hidden,                        generator=g) * 0.01    # because of bn, there is no effect of this bias\n",
    "W2 = torch.randn((n_hidden, 27),                  generator=g) * 0.01\n",
    "b2 = torch.randn(27,                              generator=g) * 0\n",
    "\n",
    "bngain = torch.ones((1, n_hidden))\n",
    "bnbias = torch.zeros((1, n_hidden))\n",
    "bnmean_running = torch.zeros((1, n_hidden))\n",
    "bnstd_running = torch.ones((1, n_hidden))\n",
    "\n",
    "parameters = [C, W1, W2, b2, bngain, bnbias]\n",
    "for p in parameters:\n",
    "    p.requires_grad = True\n",
    "print('We have', sum([p.nelement() for p in parameters]), 'number of parameters!')"
   ]
  },
  {
   "cell_type": "code",
   "execution_count": 8,
   "id": "e4b1604e-64e0-4bc5-a3f6-f4853a88b8ca",
   "metadata": {},
   "outputs": [
    {
     "name": "stdout",
     "output_type": "stream",
     "text": [
      "      0 /  200000: 3.3239\n",
      "  10000 /  200000: 2.1080\n",
      "  20000 /  200000: 2.7056\n",
      "  30000 /  200000: 2.1581\n",
      "  40000 /  200000: 2.3510\n",
      "  50000 /  200000: 1.9673\n",
      "  60000 /  200000: 2.2058\n",
      "  70000 /  200000: 2.4311\n",
      "  80000 /  200000: 2.6161\n",
      "  90000 /  200000: 2.2592\n",
      " 100000 /  200000: 2.3973\n",
      " 110000 /  200000: 2.4511\n",
      " 120000 /  200000: 1.7488\n",
      " 130000 /  200000: 2.1158\n",
      " 140000 /  200000: 2.4020\n",
      " 150000 /  200000: 2.1161\n",
      " 160000 /  200000: 2.0824\n",
      " 170000 /  200000: 2.3950\n",
      " 180000 /  200000: 2.1838\n",
      " 190000 /  200000: 2.1770\n"
     ]
    }
   ],
   "source": [
    "max_steps = 2_00_000\n",
    "batch_size = 32\n",
    "lossi = []\n",
    "\n",
    "for i in range(max_steps):\n",
    "    # Construct Minibatch\n",
    "    ix = torch.randint(0, Xtr.shape[0], (batch_size, ), generator=g)\n",
    "    Xb, Yb = Xtr[ix], Ytr[ix]    # Batch X, Y\n",
    "\n",
    "    # Forward Pass\n",
    "    emb = C[Xb]    # Embed the chars into vectors\n",
    "    embcat = emb.view(emb.shape[0], -1)    # concatenates the vectors\n",
    "    hpreact = embcat @ W1    # + b1 (no effect of b1 because of hpreact - bnmeani)    # hiddlen layer pre-ctivation\n",
    "    # hpreact = bngain * (hpreact - hpreact.mean(0, keepdim=True)) / hpreact.std(0, keepdim=True) + bnbias    # batch normalisation\n",
    "    bnmeani = hpreact.mean(0, keepdim=True)\n",
    "    bnstdi = hpreact.std(0, keepdim=True)\n",
    "    \n",
    "    hpreact = bngain * (hpreact - bnmeani) / bnstdi + bnbias    # batch normalisation\n",
    "    with torch.no_grad():\n",
    "        bnmean_running = 0.999 * bnmean_running + 0.001 * bnmeani\n",
    "        bnstd_running = 0.999 * bnstd_running + 0.001 * bnstdi\n",
    "\n",
    "    h = torch.tanh(hpreact)    # hidden layer\n",
    "    logits = h @ W2 + b2    # output layer\n",
    "    loss = F.cross_entropy(logits, Yb)    # loss function\n",
    "    \n",
    "    # Backward Pass\n",
    "    for p in parameters:\n",
    "        p.grad = None\n",
    "    loss.backward()\n",
    "    \n",
    "    # Update\n",
    "    lr = 0.1 if i < 100_000 else 0.01\n",
    "    for p in parameters:\n",
    "        p.data -= lr * p.grad\n",
    "\n",
    "    # track stats\n",
    "    if i % 10000 == 0:\n",
    "        print(f'{i:7d} / {max_steps:7d}: {loss.item():.4f}')\n",
    "    lossi.append(loss.log10().item())\n",
    "    # break\n"
   ]
  },
  {
   "cell_type": "raw",
   "id": "3655af0c-5480-4848-b4f6-b44447655bbc",
   "metadata": {},
   "source": [
    "Graphs to check how many neurons are dead\n",
    "plt.hist(h.view(-1).tolist(), 50);\n",
    "\n",
    "plt.hist(hpreact.view(-1).tolist(), 50);\n",
    "\n",
    "plt.figure(figsize=(20,10))\\\n",
    "plt.imshow(h.abs() > 0.99, cmap='gray', interpolation='nearest')"
   ]
  },
  {
   "cell_type": "code",
   "execution_count": 9,
   "id": "47a5cee7-3b5a-495d-a396-40c62dc06120",
   "metadata": {},
   "outputs": [
    {
     "data": {
      "text/plain": [
       "[<matplotlib.lines.Line2D at 0x2ad9eef5c70>]"
      ]
     },
     "execution_count": 9,
     "metadata": {},
     "output_type": "execute_result"
    },
    {
     "data": {
      "image/png": "[encoded data removed]",
      "text/plain": [
       "<Figure size 640x480 with 1 Axes>"
      ]
     },
     "metadata": {},
     "output_type": "display_data"
    }
   ],
   "source": [
    "# use the graph to see good learning rates\n",
    "plt.plot(lossi)"
   ]
  },
  {
   "cell_type": "raw",
   "id": "71d58d87-5a41-481c-aa68-d8f6090288f2",
   "metadata": {},
   "source": [
    "# as bnmean and bnmean_running are roughle equal, we can use bnmean_running instead\n",
    "with torch.no_grad():\n",
    "    # pass the training set through\n",
    "    emb = C[Xtr]\n",
    "    embcat = emb.view(emb.shape[0], -1)\n",
    "    hpreact = embcat @ W1 + b1\n",
    "\n",
    "    # measure mean/std over the entire training set\n",
    "    bnmean = hpreact.mean(0, keepdim=True)\n",
    "    bnstd = hpreact.std(0, keepdim=True)"
   ]
  },
  {
   "cell_type": "code",
   "execution_count": 10,
   "id": "2337b8f7-3f83-42fa-a95d-ddeeef7c2f58",
   "metadata": {},
   "outputs": [
    {
     "name": "stdout",
     "output_type": "stream",
     "text": [
      "train 2.1734328269958496\n",
      "dev 2.187385082244873\n"
     ]
    }
   ],
   "source": [
    "@torch.no_grad    # disables gradient tracking\n",
    "def split_loss(split):\n",
    "    x, y = {\n",
    "        'train': (Xtr, Ytr),\n",
    "        'dev': (Xdev, Ydev),\n",
    "        'test': (Xte, Yte)\n",
    "    }[split]\n",
    "    \n",
    "    emb = C[x]    # shpae -> (N, block_size, n_emb)\n",
    "    embcat = emb.view(emb.shape[0], -1)    # shpae -> (N, block_size * n_emb)\n",
    "    hpreact = embcat @ W1 # + b1\n",
    "    # hpreact = bngain * (hpreact - hpreact.mean(0, keepdim=True)) / hpreact.std(0, keepdim=True) + bnbias    # batch normalisation\n",
    "    # hpreact = bngain * (hpreact - bnmean) / bnstd + bnbias    # batch normalisation\n",
    "    hpreact = bngain * (hpreact - bnmean_running) / bnstd_running + bnbias    # batch normalisation\n",
    "    h = torch.tanh(hpreact)    # shpae -> (N, n_hidden)\n",
    "    logits = h @ W2 + b2    # shpae -> (N, vocab_size)\n",
    "    loss = F.cross_entropy(logits, y)\n",
    "    print(split, loss.item())\n",
    "\n",
    "split_loss('train')\n",
    "split_loss('dev')"
   ]
  },
  {
   "cell_type": "code",
   "execution_count": 11,
   "id": "2703dbfb-9c49-4599-bd63-ce3c1173f919",
   "metadata": {},
   "outputs": [
    {
     "name": "stdout",
     "output_type": "stream",
     "text": [
      "luckr.\n",
      "pnlssannesstevangruk.\n",
      "lbizmnhxhmallerggen.\n",
      "thuk.\n",
      "boy.\n"
     ]
    }
   ],
   "source": [
    "# Sampling from the model\n",
    "\n",
    "for _ in range(5):\n",
    "    out = []\n",
    "    context = [0] * block_size\n",
    "    while True:\n",
    "        # forward pass\n",
    "        emb = C[torch.tensor([context])]\n",
    "        # h = torch.tanh(emb.view(1, -1) @ W1 + b1)\n",
    "        h = torch.tanh(emb.view(1, -1) @ W1)\n",
    "        logits = h @ W2 + b2\n",
    "        probs = F.softmax(logits, dim=1)\n",
    "\n",
    "        # sample from distribution\n",
    "        ix = torch.multinomial(probs, num_samples=1, generator=g).item()\n",
    "\n",
    "        # shift the context window and track the samples\n",
    "        context = context[1:] + [ix]\n",
    "        out.append(itos[ix])\n",
    "\n",
    "        # break if '.' is recieved\n",
    "        if ix == 0:\n",
    "            break\n",
    "    print(''.join(out))    # convert array to string\n"
   ]
  },
  {
   "cell_type": "markdown",
   "id": "c139b1ad-f70a-474a-86ad-a8aa1d126b2d",
   "metadata": {},
   "source": [
    "## Cleaned Up"
   ]
  },
  {
   "cell_type": "code",
   "execution_count": 12,
   "id": "6a05b973-0ef3-4fd9-8868-7587effa5461",
   "metadata": {},
   "outputs": [
    {
     "name": "stdout",
     "output_type": "stream",
     "text": [
      "We have 12097 number of parameters!\n"
     ]
    }
   ],
   "source": [
    "# All the parameters\n",
    "n_embd = 10    # the dimensionality of the character embedding vector\n",
    "n_hidden = 200    # the number of neurons in the hidden layer of MLP\n",
    "\n",
    "g = torch.Generator().manual_seed(2147483647)\n",
    "C = torch.randn((27, n_embd),                     generator=g)\n",
    "W1 = torch.randn((n_embd * block_size, n_hidden), generator=g) * 5/3 * ((n_embd * block_size)**0.5)\n",
    "W2 = torch.randn((n_hidden, 27),                  generator=g) * 0.01\n",
    "b2 = torch.randn(27,                              generator=g) * 0\n",
    "\n",
    "# BatchNorm parameters\n",
    "bngain = torch.ones((1, n_hidden))\n",
    "bnbias = torch.zeros((1, n_hidden))\n",
    "bnmean_running = torch.zeros((1, n_hidden))\n",
    "bnstd_running = torch.ones((1, n_hidden))\n",
    "\n",
    "parameters = [C, W1, W2, b2, bngain, bnbias]\n",
    "for p in parameters:\n",
    "    p.requires_grad = True\n",
    "print('We have', sum([p.nelement() for p in parameters]), 'number of parameters!')"
   ]
  },
  {
   "cell_type": "code",
   "execution_count": 13,
   "id": "d0b35765-8b3a-4615-acb7-7a8b0a1c9e57",
   "metadata": {},
   "outputs": [
    {
     "name": "stdout",
     "output_type": "stream",
     "text": [
      "      0 /  200000: 3.3239\n",
      "  10000 /  200000: 2.1080\n",
      "  20000 /  200000: 2.7056\n",
      "  30000 /  200000: 2.1581\n",
      "  40000 /  200000: 2.3510\n",
      "  50000 /  200000: 1.9673\n",
      "  60000 /  200000: 2.2058\n",
      "  70000 /  200000: 2.4311\n",
      "  80000 /  200000: 2.6161\n",
      "  90000 /  200000: 2.2592\n",
      " 100000 /  200000: 2.3973\n",
      " 110000 /  200000: 2.4511\n",
      " 120000 /  200000: 1.7488\n",
      " 130000 /  200000: 2.1158\n",
      " 140000 /  200000: 2.4020\n",
      " 150000 /  200000: 2.1161\n",
      " 160000 /  200000: 2.0824\n",
      " 170000 /  200000: 2.3950\n",
      " 180000 /  200000: 2.1838\n",
      " 190000 /  200000: 2.1770\n"
     ]
    }
   ],
   "source": [
    "max_steps = 2_00_000\n",
    "batch_size = 32\n",
    "lossi = []\n",
    "\n",
    "for i in range(max_steps):\n",
    "    # 1) Construct Minibatch\n",
    "    ix = torch.randint(0, Xtr.shape[0], (batch_size, ), generator=g)\n",
    "    Xb, Yb = Xtr[ix], Ytr[ix]    # Batch X, Y\n",
    "\n",
    "    # 2) Forward Pass\n",
    "    # 2.1) Input vectors\n",
    "    emb = C[Xb]    # Embed the chars into vectors\n",
    "    embcat = emb.view(emb.shape[0], -1)    # concatenates the vectors\n",
    "    # 2.2) Linear Layer\n",
    "    hpreact = embcat @ W1    # + b1 (no effect of b1 because of hpreact - bnmeani)    # hiddlen layer pre-ctivation\n",
    "\n",
    "    # 2.3) BatchNorm Layer\n",
    "    bnmeani = hpreact.mean(0, keepdim=True)\n",
    "    bnstdi = hpreact.std(0, keepdim=True)\n",
    "    hpreact = bngain * (hpreact - bnmeani) / bnstdi + bnbias    # batch normalisation\n",
    "    with torch.no_grad():\n",
    "        bnmean_running = 0.999 * bnmean_running + 0.001 * bnmeani\n",
    "        bnstd_running = 0.999 * bnstd_running + 0.001 * bnstdi\n",
    "\n",
    "    # 2.4) Non-Linearity\n",
    "    h = torch.tanh(hpreact)    # hidden layer\n",
    "    logits = h @ W2 + b2    # output layer\n",
    "    loss = F.cross_entropy(logits, Yb)    # loss function\n",
    "    \n",
    "    # 3) Backward Pass\n",
    "    for p in parameters:\n",
    "        p.grad = None\n",
    "    loss.backward()\n",
    "    \n",
    "    # 4) Update\n",
    "    lr = 0.1 if i < 100_000 else 0.01\n",
    "    for p in parameters:\n",
    "        p.data -= lr * p.grad\n",
    "\n",
    "    # 5) track stats\n",
    "    if i % 10000 == 0:\n",
    "        print(f'{i:7d} / {max_steps:7d}: {loss.item():.4f}')\n",
    "    lossi.append(loss.log10().item())\n"
   ]
  },
  {
   "cell_type": "code",
   "execution_count": 14,
   "id": "3b1113d5-c31f-4a2d-a4f0-59bea9e895ea",
   "metadata": {},
   "outputs": [
    {
     "name": "stdout",
     "output_type": "stream",
     "text": [
      "train 2.1734328269958496\n",
      "dev 2.187385082244873\n"
     ]
    }
   ],
   "source": [
    "@torch.no_grad()    # disables gradient tracking\n",
    "def split_loss(split):\n",
    "    x, y = {\n",
    "        'train': (Xtr, Ytr),\n",
    "        'dev': (Xdev, Ydev),\n",
    "        'test': (Xte, Yte)\n",
    "    }[split]\n",
    "    \n",
    "    emb = C[x]    # shpae -> (N, block_size, n_emb)\n",
    "    embcat = emb.view(emb.shape[0], -1)    # shpae -> (N, block_size * n_emb)\n",
    "    hpreact = embcat @ W1\n",
    "    hpreact = bngain * (hpreact - bnmean_running) / bnstd_running + bnbias    # batch normalisation\n",
    "    h = torch.tanh(hpreact)    # shpae -> (N, n_hidden)\n",
    "    logits = h @ W2 + b2    # shpae -> (N, vocab_size)\n",
    "    loss = F.cross_entropy(logits, y)\n",
    "    print(split, loss.item())\n",
    "\n",
    "split_loss('train')\n",
    "split_loss('dev')"
   ]
  },
  {
   "cell_type": "code",
   "execution_count": null,
   "id": "f74156cf-a9e3-41f7-a3b3-f3894ffab942",
   "metadata": {},
   "outputs": [],
   "source": []
  }
 ],
 "metadata": {
  "kernelspec": {
   "display_name": "Python 3 (ipykernel)",
   "language": "python",
   "name": "python3"
  },
  "language_info": {
   "codemirror_mode": {
    "name": "ipython",
    "version": 3
   },
   "file_extension": ".py",
   "mimetype": "text/x-python",
   "name": "python",
   "nbconvert_exporter": "python",
   "pygments_lexer": "ipython3",
   "version": "3.12.3"
  }
 },
 "nbformat": 4,
 "nbformat_minor": 5
}
