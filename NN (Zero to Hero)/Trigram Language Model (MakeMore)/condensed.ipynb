{
 "cells": [
  {
   "cell_type": "code",
   "execution_count": 8,
   "id": "aaa79190-bd4c-49f1-bc46-8e25fcf91b4c",
   "metadata": {},
   "outputs": [],
   "source": [
    "import torch\n",
    "import torch.nn.functional as F\n",
    "import matplotlib.pyplot as plt\n",
    "%matplotlib inline"
   ]
  },
  {
   "cell_type": "markdown",
   "id": "3ae50afd-d20b-4df1-a8c8-08282663ae11",
   "metadata": {},
   "source": [
    "## Neural Net Method"
   ]
  },
  {
   "cell_type": "code",
   "execution_count": 2,
   "id": "a7001509-7f62-4f73-886c-ea44217112e4",
   "metadata": {},
   "outputs": [
    {
     "data": {
      "text/plain": [
       "['emma',\n",
       " 'olivia',\n",
       " 'ava',\n",
       " 'isabella',\n",
       " 'sophia',\n",
       " 'charlotte',\n",
       " 'mia',\n",
       " 'amelia',\n",
       " 'harper',\n",
       " 'evelyn']"
      ]
     },
     "execution_count": 2,
     "metadata": {},
     "output_type": "execute_result"
    }
   ],
   "source": [
    "words = open('names.txt', 'r').read().splitlines()\n",
    "words[:10]"
   ]
  },
  {
   "cell_type": "code",
   "execution_count": 3,
   "id": "e40ab70a-516b-43a4-b5c8-6334d889dbbb",
   "metadata": {},
   "outputs": [],
   "source": [
    "abc = 'abcdefghijklmnopqrstuvwxyz'\n",
    "stoi = {s: i+1 for i, s in enumerate(abc)}\n",
    "stoi['.'] = 0\n",
    "itos = {i: s for s, i in stoi.items()}"
   ]
  },
  {
   "cell_type": "code",
   "execution_count": 4,
   "id": "7e768bc2-c36b-4e9f-b2cd-e93e4b5839be",
   "metadata": {},
   "outputs": [
    {
     "name": "stdout",
     "output_type": "stream",
     "text": [
      "Number of elements: 228146\n"
     ]
    }
   ],
   "source": [
    "xs, ys = [], []\n",
    "for w in words:\n",
    "    w = '..' + w + '.'\n",
    "    for ch1, ch2, ch3 in zip(w, w[1:], w[2:]):\n",
    "        xs.append([stoi[ch1], stoi[ch2]])\n",
    "        ys.append(stoi[ch3])\n",
    "\n",
    "xs = torch.tensor(xs)\n",
    "ys = torch.tensor(ys)\n",
    "num = ys.nelement()\n",
    "print('Number of elements:', num)"
   ]
  },
  {
   "cell_type": "code",
   "execution_count": 5,
   "id": "95297d1e-4ff3-4877-9f3f-85657f04cb09",
   "metadata": {},
   "outputs": [
    {
     "data": {
      "text/plain": [
       "tensor([ 0.2643, -0.4149, -0.6075,  0.7319, -0.1569, -0.8602, -0.8462, -0.3094,\n",
       "        -0.9846,  1.3006, -1.5222,  0.6169,  1.0747,  0.0317, -1.2312,  1.2970,\n",
       "        -1.4020, -0.7056,  1.4701,  0.0147,  0.6378,  1.3168,  1.2772,  0.0794,\n",
       "        -0.4374,  0.3369,  0.6316], grad_fn=<SelectBackward0>)"
      ]
     },
     "execution_count": 5,
     "metadata": {},
     "output_type": "execute_result"
    }
   ],
   "source": [
    "g = torch.Generator().manual_seed(123456789)\n",
    "W = torch.randn((27*2, 27), generator=g, requires_grad=True)\n",
    "W[0]"
   ]
  },
  {
   "cell_type": "code",
   "execution_count": 12,
   "id": "d7973d2a-efbb-48f6-b089-0e23db116d9b",
   "metadata": {},
   "outputs": [
    {
     "name": "stdout",
     "output_type": "stream",
     "text": [
      "50 tensor(2.3765, grad_fn=<NegBackward0>)\n",
      "100 tensor(2.3712, grad_fn=<NegBackward0>)\n",
      "150 tensor(2.3670, grad_fn=<NegBackward0>)\n",
      "200 tensor(2.3637, grad_fn=<NegBackward0>)\n",
      "250 tensor(2.3610, grad_fn=<NegBackward0>)\n",
      "300 tensor(2.3587, grad_fn=<NegBackward0>)\n",
      "350 tensor(2.3567, grad_fn=<NegBackward0>)\n",
      "400 tensor(2.3551, grad_fn=<NegBackward0>)\n",
      "450 tensor(2.3536, grad_fn=<NegBackward0>)\n",
      "500 tensor(2.3524, grad_fn=<NegBackward0>)\n",
      "550 tensor(2.3513, grad_fn=<NegBackward0>)\n",
      "600 tensor(2.3503, grad_fn=<NegBackward0>)\n",
      "650 tensor(2.3494, grad_fn=<NegBackward0>)\n",
      "700 tensor(2.3486, grad_fn=<NegBackward0>)\n",
      "750 tensor(2.3479, grad_fn=<NegBackward0>)\n",
      "800 tensor(2.3473, grad_fn=<NegBackward0>)\n",
      "850 tensor(2.3467, grad_fn=<NegBackward0>)\n",
      "900 tensor(2.3461, grad_fn=<NegBackward0>)\n",
      "950 tensor(2.3457, grad_fn=<NegBackward0>)\n",
      "1000 tensor(2.3452, grad_fn=<NegBackward0>)\n",
      "1000 tensor(2.3452, grad_fn=<NegBackward0>)\n"
     ]
    }
   ],
   "source": [
    "arr = []\n",
    "n = 1000\n",
    "for k in range(1, n+1):\n",
    "    xenc = F.one_hot(xs, num_classes=27).float().view(-1,2*27)\n",
    "    logits = xenc @ W\n",
    "    counts = logits.exp()\n",
    "    probs = counts / counts.sum(1, keepdim=True)\n",
    "    loss = -probs[torch.arange(num),ys].log().mean()\n",
    "    arr.append(loss.detach())\n",
    "\n",
    "    W.grad = None\n",
    "    loss.backward()\n",
    "\n",
    "    W.data -= 10 * W.grad\n",
    "\n",
    "    if k%50 == 0:\n",
    "        print(k, loss)\n",
    "\n",
    "print(k, loss)"
   ]
  },
  {
   "cell_type": "code",
   "execution_count": 11,
   "id": "9382f833-0dd1-4e22-a833-284cf2c6b199",
   "metadata": {},
   "outputs": [
    {
     "data": {
      "text/plain": [
       "[<matplotlib.lines.Line2D at 0x1ef4e53e420>]"
      ]
     },
     "execution_count": 11,
     "metadata": {},
     "output_type": "execute_result"
    },
    {
     "data": {
      "image/png": "[encoded data removed]",
      "text/plain": [
       "<Figure size 640x480 with 1 Axes>"
      ]
     },
     "metadata": {},
     "output_type": "display_data"
    }
   ],
   "source": [
    "plt.plot(range(1, len(arr)+1), arr)"
   ]
  },
  {
   "cell_type": "code",
   "execution_count": 17,
   "id": "28342ef5-4c08-4495-a9d0-79e8293e2be2",
   "metadata": {},
   "outputs": [
    {
     "name": "stdout",
     "output_type": "stream",
     "text": [
      "aldevana.\n",
      "caigelle.\n",
      "tuna.\n",
      "kale.\n",
      "galiyunir.\n"
     ]
    }
   ],
   "source": [
    "x1, x2 = 0, 0\n",
    "\n",
    "for _ in range(5):\n",
    "    s = ''\n",
    "    while True:\n",
    "        xenc = F.one_hot(torch.tensor([x1, x2]), num_classes=27).float().view(-1,2*27)\n",
    "        logits = xenc @ W\n",
    "        counts = logits.exp()\n",
    "        p = counts / counts.sum(1, keepdim=True)\n",
    "        \n",
    "        val = torch.multinomial(p, num_samples = 1, replacement=True, generator=g).item()\n",
    "        x1, x2 = x2, val\n",
    "\n",
    "        s += itos[val]\n",
    "        if val == 0: break\n",
    "\n",
    "    print(s)"
   ]
  },
  {
   "cell_type": "markdown",
   "id": "ff22236a-2b6f-41cc-8206-67b6fef68fd8",
   "metadata": {},
   "source": [
    "## Prob Way"
   ]
  },
  {
   "cell_type": "markdown",
   "id": "c74a9d12-2103-4daf-b16c-9f90ead74410",
   "metadata": {},
   "source": [
    "### To-do Later"
   ]
  },
  {
   "cell_type": "code",
   "execution_count": null,
   "id": "97b76a8d-423a-4ad6-afdf-4c9693feff41",
   "metadata": {},
   "outputs": [],
   "source": []
  }
 ],
 "metadata": {
  "kernelspec": {
   "display_name": "Python 3 (ipykernel)",
   "language": "python",
   "name": "python3"
  },
  "language_info": {
   "codemirror_mode": {
    "name": "ipython",
    "version": 3
   },
   "file_extension": ".py",
   "mimetype": "text/x-python",
   "name": "python",
   "nbconvert_exporter": "python",
   "pygments_lexer": "ipython3",
   "version": "3.12.3"
  }
 },
 "nbformat": 4,
 "nbformat_minor": 5
}
