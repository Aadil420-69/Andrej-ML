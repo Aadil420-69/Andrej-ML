{
 "cells": [
  {
   "cell_type": "markdown",
   "id": "a4850a63-39d6-4a3e-abd4-ab6244f8c9d5",
   "metadata": {},
   "source": [
    "# Importing and Stuff"
   ]
  },
  {
   "cell_type": "code",
   "execution_count": 1,
   "id": "10b823bf-194c-4245-bc4b-f2be40c23d8c",
   "metadata": {},
   "outputs": [],
   "source": [
    "import torch\n",
    "import torch.nn.functional as F\n",
    "import matplotlib.pyplot as plt\n",
    "%matplotlib inline\n",
    "\n",
    "import random\n",
    "random.seed(42)"
   ]
  },
  {
   "cell_type": "code",
   "execution_count": 2,
   "id": "01785b17-3972-4cad-bf58-62a115b224b6",
   "metadata": {},
   "outputs": [
    {
     "data": {
      "text/plain": [
       "['emma', 'olivia', 'ava', 'isabella', 'sophia', 'charlotte', 'mia', 'amelia']"
      ]
     },
     "execution_count": 2,
     "metadata": {},
     "output_type": "execute_result"
    }
   ],
   "source": [
    "words = open('names.txt', 'r').read().splitlines()\n",
    "words[:8]"
   ]
  },
  {
   "cell_type": "code",
   "execution_count": 3,
   "id": "3de81fe0-333f-4bcf-9d2f-ec1de2d88e53",
   "metadata": {},
   "outputs": [
    {
     "data": {
      "text/plain": [
       "32033"
      ]
     },
     "execution_count": 3,
     "metadata": {},
     "output_type": "execute_result"
    }
   ],
   "source": [
    "len(words)"
   ]
  },
  {
   "cell_type": "code",
   "execution_count": 4,
   "id": "30550804-d2c5-4a65-82e1-ea506284c863",
   "metadata": {},
   "outputs": [],
   "source": [
    "# build the mapping of each letter\n",
    "\n",
    "abc = 'abcdefghijklmnopqrstuvwxyz'\n",
    "stoi = {s: i+1 for i, s in enumerate(abc)}\n",
    "stoi['.'] = 0\n",
    "itos = {i: s for s, i in stoi.items()}"
   ]
  },
  {
   "cell_type": "code",
   "execution_count": 5,
   "id": "0fd0567d-df58-4059-bba0-24842ec62935",
   "metadata": {},
   "outputs": [],
   "source": [
    "# build the databse\n",
    "\n",
    "block_size = 3\n",
    "X, Y = [], []\n",
    "for w in words:\n",
    "    # print(w)\n",
    "    context = [0] * block_size\n",
    "    for ch in w + '.':\n",
    "        ix = stoi[ch]\n",
    "        X.append(context)\n",
    "        Y.append(ix)\n",
    "        # print(''.join(itos[i] for i in context), '---->', ch)\n",
    "        context = context[1:] + [ix]\n",
    "\n",
    "X = torch.tensor(X)\n",
    "Y = torch.tensor(Y)"
   ]
  },
  {
   "cell_type": "code",
   "execution_count": 6,
   "id": "64c78f7f-bbe0-4a3e-96f0-636263621899",
   "metadata": {},
   "outputs": [
    {
     "data": {
      "text/plain": [
       "(torch.Size([228146, 3]), torch.int64, torch.Size([228146]), torch.int64)"
      ]
     },
     "execution_count": 6,
     "metadata": {},
     "output_type": "execute_result"
    }
   ],
   "source": [
    "X.shape, X.dtype, Y.shape, Y.dtype"
   ]
  },
  {
   "cell_type": "markdown",
   "id": "c3053dba-539d-44d9-b29c-5cf70f297597",
   "metadata": {},
   "source": [
    "# Neural Net"
   ]
  },
  {
   "cell_type": "markdown",
   "id": "24966e8a-ac23-4a26-9ad5-4ffae6c9d8dd",
   "metadata": {},
   "source": [
    "## Spead out"
   ]
  },
  {
   "cell_type": "code",
   "execution_count": 7,
   "id": "c3ace6ca-e589-46ba-aa3b-75f9e8aba63b",
   "metadata": {},
   "outputs": [],
   "source": [
    "C = torch.randn((27, 2))"
   ]
  },
  {
   "cell_type": "code",
   "execution_count": 8,
   "id": "608a8704-0675-44a5-9dc0-b392b875fa91",
   "metadata": {},
   "outputs": [
    {
     "data": {
      "text/plain": [
       "tensor([[[-0.5195,  0.1673],\n",
       "         [-0.5195,  0.1673],\n",
       "         [-0.5195,  0.1673]],\n",
       "\n",
       "        [[-0.5195,  0.1673],\n",
       "         [-0.5195,  0.1673],\n",
       "         [-0.2469,  0.4752]],\n",
       "\n",
       "        [[-0.5195,  0.1673],\n",
       "         [-0.2469,  0.4752],\n",
       "         [-0.7838,  1.3781]],\n",
       "\n",
       "        ...,\n",
       "\n",
       "        [[-0.2412, -0.3083],\n",
       "         [-0.2412, -0.3083],\n",
       "         [-0.4440, -1.1576]],\n",
       "\n",
       "        [[-0.2412, -0.3083],\n",
       "         [-0.4440, -1.1576],\n",
       "         [-0.2412, -0.3083]],\n",
       "\n",
       "        [[-0.4440, -1.1576],\n",
       "         [-0.2412, -0.3083],\n",
       "         [ 0.8056, -0.3616]]])"
      ]
     },
     "execution_count": 8,
     "metadata": {},
     "output_type": "execute_result"
    }
   ],
   "source": [
    "emb = C[X]\n",
    "emb"
   ]
  },
  {
   "cell_type": "code",
   "execution_count": 9,
   "id": "bcd77101-a894-498e-8cfb-96c80eb5634e",
   "metadata": {},
   "outputs": [],
   "source": [
    "W1 = torch.randn((6, 100))\n",
    "b1 = torch.randn(100)"
   ]
  },
  {
   "cell_type": "code",
   "execution_count": 10,
   "id": "84dae0b2-b025-4f6b-b48e-b6c0fa088830",
   "metadata": {},
   "outputs": [],
   "source": [
    "# # M1\n",
    "# torch.cat([emb[:, 0, :], emb[:, 1, :], emb[:, 2, :]], 1)\n",
    "# # M2\n",
    "# torch.cat(torch.unbind(emb, 1), 1)\n",
    "# # M3\n",
    "# emb.view(32, 6)"
   ]
  },
  {
   "cell_type": "code",
   "execution_count": 11,
   "id": "a3806621-4d56-4800-9e56-87648a2312ce",
   "metadata": {},
   "outputs": [
    {
     "data": {
      "text/plain": [
       "tensor([[ 0.4312,  0.9145,  0.4637,  ...,  0.5946, -0.8736, -0.5119],\n",
       "        [ 0.3292,  0.9169,  0.7672,  ...,  0.6641, -0.9749, -0.2996],\n",
       "        [ 0.1695,  0.8487,  0.2974,  ...,  0.9249, -0.9993, -0.9782],\n",
       "        ...,\n",
       "        [ 0.8427,  0.9503,  0.4234,  ...,  0.4411,  0.9939,  0.7421],\n",
       "        [ 0.6599,  0.9482,  0.8641,  ..., -0.3155,  0.4830,  0.8507],\n",
       "        [ 0.7032,  0.8877,  0.9985,  ...,  0.9931,  0.1017,  0.9942]])"
      ]
     },
     "execution_count": 11,
     "metadata": {},
     "output_type": "execute_result"
    }
   ],
   "source": [
    "h = (emb.view(-1, 6) @ W1 + b1).tanh()\n",
    "h"
   ]
  },
  {
   "cell_type": "code",
   "execution_count": 12,
   "id": "5b104613-06be-4fa8-906a-df822d8f4adc",
   "metadata": {},
   "outputs": [],
   "source": [
    "W2 = torch.randn((100, 27))\n",
    "b2 = torch.randn(27)"
   ]
  },
  {
   "cell_type": "code",
   "execution_count": 13,
   "id": "b38abd86-4c23-40df-baa4-e0384f3a9d78",
   "metadata": {},
   "outputs": [
    {
     "data": {
      "text/plain": [
       "tensor([[ 13.4707,  -7.9412,  -2.0038,  ...,  -9.1632, -10.7694,   5.3604],\n",
       "        [ 10.8908,  -8.4576,   2.0942,  ..., -13.0393,  -8.1259,   7.0538],\n",
       "        [  8.4313, -13.1626,  -2.8339,  ..., -12.2665, -10.1414,   3.1870],\n",
       "        ...,\n",
       "        [ 14.7654,   3.3301,  -2.5421,  ...,   1.8531,   5.5115,  11.1362],\n",
       "        [ 10.6788,   2.3801,  -5.4696,  ...,  -7.0930,   4.6089,  10.2256],\n",
       "        [  3.8990,  10.3963,   3.6428,  ..., -15.7599,   4.9319,  13.8182]])"
      ]
     },
     "execution_count": 13,
     "metadata": {},
     "output_type": "execute_result"
    }
   ],
   "source": [
    "logits = h @ W2 + b2\n",
    "logits"
   ]
  },
  {
   "cell_type": "code",
   "execution_count": 14,
   "id": "a407c00d-7925-4800-b66c-44855b48933e",
   "metadata": {},
   "outputs": [
    {
     "data": {
      "text/plain": [
       "torch.Size([228146, 27])"
      ]
     },
     "execution_count": 14,
     "metadata": {},
     "output_type": "execute_result"
    }
   ],
   "source": [
    "counts = logits.exp()\n",
    "prob = counts / counts.sum(1, keepdim=True)\n",
    "prob.shape"
   ]
  },
  {
   "cell_type": "code",
   "execution_count": 15,
   "id": "f1360e51-ed39-4e4b-8dfc-4e1dbebd941f",
   "metadata": {},
   "outputs": [
    {
     "data": {
      "text/plain": [
       "tensor([[8.7834e-01, 4.4116e-10, 1.6719e-07,  ..., 1.2999e-10, 2.6081e-11,\n",
       "         2.6389e-04],\n",
       "        [4.8221e-01, 1.9069e-09, 7.2931e-05,  ..., 1.9521e-11, 2.6568e-09,\n",
       "         1.0395e-02],\n",
       "        [6.0489e-03, 2.5326e-12, 7.7486e-08,  ..., 6.2045e-12, 5.1955e-11,\n",
       "         3.1922e-05],\n",
       "        ...,\n",
       "        [1.4961e-01, 1.6170e-06, 4.5542e-09,  ..., 3.6920e-07, 1.4324e-05,\n",
       "         3.9704e-03],\n",
       "        [4.9082e-01, 1.2213e-04, 4.7619e-08,  ..., 9.3920e-09, 1.1345e-03,\n",
       "         3.1199e-01],\n",
       "        [2.6634e-06, 1.7668e-03, 2.0616e-06,  ..., 7.7212e-15, 7.4824e-06,\n",
       "         5.4113e-02]])"
      ]
     },
     "execution_count": 15,
     "metadata": {},
     "output_type": "execute_result"
    }
   ],
   "source": [
    "# counts = logits.exp()\n",
    "# prob = counts / counts.sum(1, keepdim=True)\n",
    "# loss = -prob[torch.arange(32), Y].log().mean()\n",
    "\n",
    "loss = F.cross_entropy(logits, Y)    # Same as the commented lines but more efficient\n",
    "F.softmax(logits, dim=1)"
   ]
  },
  {
   "cell_type": "markdown",
   "id": "f43c2977-beba-4bfe-84d4-645e83daaff4",
   "metadata": {},
   "source": [
    "## Cleaned up"
   ]
  },
  {
   "cell_type": "code",
   "execution_count": 16,
   "id": "3207056e-a836-42ee-8017-0a08205e191f",
   "metadata": {},
   "outputs": [
    {
     "name": "stdout",
     "output_type": "stream",
     "text": [
      "torch.Size([182625, 3]) torch.Size([182625])\n",
      "torch.Size([22655, 3]) torch.Size([22655])\n",
      "torch.Size([22866, 3]) torch.Size([22866])\n"
     ]
    }
   ],
   "source": [
    "# build the databse\n",
    "def build_dataset(words):\n",
    "    block_size = 3\n",
    "    X, Y = [], []\n",
    "    for w in words:\n",
    "        context = [0] * block_size\n",
    "        for ch in w + '.':\n",
    "            ix = stoi[ch]\n",
    "            X.append(context)\n",
    "            Y.append(ix)\n",
    "            context = context[1:] + [ix]\n",
    "    \n",
    "    X = torch.tensor(X)\n",
    "    Y = torch.tensor(Y)\n",
    "    print(X.shape, Y.shape)\n",
    "    return X, Y\n",
    "\n",
    "random.shuffle(words)\n",
    "n1 = int(0.8 * len(words))\n",
    "n2 = int(0.9 * len(words))\n",
    "\n",
    "# training, dev and test split\n",
    "# 80%   10%   10%\n",
    "Xtr, Ytr = build_dataset(words[:n1])\n",
    "Xdev, Ydev = build_dataset(words[n1:n2])\n",
    "Xte, Yte = build_dataset(words[n2:])\n"
   ]
  },
  {
   "cell_type": "code",
   "execution_count": 17,
   "id": "fc3c952e-2ac1-4909-a1cb-393f864541a0",
   "metadata": {},
   "outputs": [
    {
     "data": {
      "text/plain": [
       "(torch.Size([182625, 3]), torch.Size([182625]))"
      ]
     },
     "execution_count": 17,
     "metadata": {},
     "output_type": "execute_result"
    }
   ],
   "source": [
    "Xtr.shape, Ytr.shape"
   ]
  },
  {
   "cell_type": "code",
   "execution_count": 18,
   "id": "5ead0646-ad6e-42b7-8532-d399e709bcf1",
   "metadata": {},
   "outputs": [
    {
     "name": "stdout",
     "output_type": "stream",
     "text": [
      "We have 11897 number of parameters!\n"
     ]
    }
   ],
   "source": [
    "# All the parameters\n",
    "\n",
    "# C = torch.ones((27, 10), requires_grad=True)\n",
    "# W1 = torch.ones((30, 200), requires_grad=True)\n",
    "# b1 = torch.ones(200, requires_grad=True)\n",
    "# W2 = torch.ones((200, 27), requires_grad=True)\n",
    "# b2 = torch.ones(27, requires_grad=True)\n",
    "\n",
    "g = torch.Generator().manual_seed(2147483647)\n",
    "C = torch.randn((27, 10), requires_grad=True, generator=g)\n",
    "W1 = torch.randn((30, 200), requires_grad=True, generator=g)\n",
    "b1 = torch.randn(200, requires_grad=True, generator=g)\n",
    "W2 = torch.randn((200, 27), requires_grad=True, generator=g)\n",
    "b2 = torch.randn(27, requires_grad=True, generator=g)\n",
    "\n",
    "parameters = [C, W1, b1, W2, b2]\n",
    "print('We have', sum([p.nelement() for p in parameters]), 'number of parameters!')"
   ]
  },
  {
   "cell_type": "code",
   "execution_count": 19,
   "id": "013985c4-3dd2-4cd0-ab18-c8311b4015ef",
   "metadata": {},
   "outputs": [],
   "source": [
    "# Creating an array for Learning Rates\n",
    "lre = torch.linspace(-3, 0, 1000)\n",
    "lrs = 10**lre"
   ]
  },
  {
   "cell_type": "code",
   "execution_count": 20,
   "id": "a9a7a0eb-8f89-4f67-beb0-269f1523f909",
   "metadata": {},
   "outputs": [],
   "source": [
    "lrsi = []\n",
    "lossi = []\n",
    "stepi = []"
   ]
  },
  {
   "cell_type": "code",
   "execution_count": 21,
   "id": "e4b1604e-64e0-4bc5-a3f6-f4853a88b8ca",
   "metadata": {},
   "outputs": [],
   "source": [
    "# for lr in lrs:\n",
    "for i in range(200_000):\n",
    "    # Construct Minibatch\n",
    "    ix = torch.randint(0, Xtr.shape[0], (32, ))\n",
    "\n",
    "    # Forward Pass\n",
    "    emb = C[Xtr[ix]]\n",
    "    h = (emb.view(-1, 30) @ W1 + b1).tanh()\n",
    "    logits = h @ W2 + b2\n",
    "    loss = F.cross_entropy(logits, Ytr[ix])\n",
    "    \n",
    "    # Backward Pass\n",
    "    for p in parameters:\n",
    "        p.grad = None\n",
    "    loss.backward()\n",
    "    \n",
    "    # Update\n",
    "    # lr = lrs[i]\n",
    "    lr = 0.1 if i < 100_000 else 0.01\n",
    "    for p in parameters:\n",
    "        p.data -= lr * p.grad\n",
    "\n",
    "    # track stats\n",
    "    stepi.append(i)\n",
    "    # lrsi.append(lre[i])\n",
    "    lossi.append(loss.log10().item())\n",
    "\n",
    "# print(loss.item())"
   ]
  },
  {
   "cell_type": "code",
   "execution_count": 22,
   "id": "47a5cee7-3b5a-495d-a396-40c62dc06120",
   "metadata": {},
   "outputs": [
    {
     "data": {
      "text/plain": [
       "[<matplotlib.lines.Line2D at 0x240bb5384a0>]"
      ]
     },
     "execution_count": 22,
     "metadata": {},
     "output_type": "execute_result"
    },
    {
     "data": {
      "image/png": "[encoded data removed]",
      "text/plain": [
       "<Figure size 640x480 with 1 Axes>"
      ]
     },
     "metadata": {},
     "output_type": "display_data"
    }
   ],
   "source": [
    "# use the graph to see good learning rates\\\n",
    "# plt.plot(lrsi, lossi)\n",
    "plt.plot(stepi, lossi)\n"
   ]
  },
  {
   "cell_type": "code",
   "execution_count": 23,
   "id": "49edafc2-78e5-4d51-bba3-9a4ad880d293",
   "metadata": {},
   "outputs": [
    {
     "data": {
      "text/plain": [
       "200000"
      ]
     },
     "execution_count": 23,
     "metadata": {},
     "output_type": "execute_result"
    }
   ],
   "source": [
    "len(stepi)"
   ]
  },
  {
   "cell_type": "code",
   "execution_count": 24,
   "id": "2337b8f7-3f83-42fa-a95d-ddeeef7c2f58",
   "metadata": {},
   "outputs": [
    {
     "data": {
      "text/plain": [
       "tensor(2.1120, grad_fn=<NllLossBackward0>)"
      ]
     },
     "execution_count": 24,
     "metadata": {},
     "output_type": "execute_result"
    }
   ],
   "source": [
    "emb = C[Xtr]\n",
    "h = (emb.view(-1, 30) @ W1 + b1).tanh()\n",
    "logits = h @ W2 + b2\n",
    "loss = F.cross_entropy(logits, Ytr)\n",
    "loss"
   ]
  },
  {
   "cell_type": "code",
   "execution_count": 25,
   "id": "e7f7ae7b-0d4b-4a00-93af-f55ca28d7627",
   "metadata": {},
   "outputs": [
    {
     "data": {
      "text/plain": [
       "tensor(2.1536, grad_fn=<NllLossBackward0>)"
      ]
     },
     "execution_count": 25,
     "metadata": {},
     "output_type": "execute_result"
    }
   ],
   "source": [
    "emb = C[Xdev]\n",
    "h = (emb.view(-1, 30) @ W1 + b1).tanh()\n",
    "logits = h @ W2 + b2\n",
    "loss = F.cross_entropy(logits, Ydev)\n",
    "loss"
   ]
  },
  {
   "cell_type": "markdown",
   "id": "dff08e20-362d-43df-9598-84cdc2c28b9f",
   "metadata": {},
   "source": [
    "\\# To visualize the C tensor when it was 2d\\\n",
    "plt.figure(figsize=(8, 8))\\\n",
    "plt.scatter(C\\[:, 0].data, C\\[:, 1].data, s=200)\\\n",
    "for i in range(C.shape\\[0]):\\\n",
    "    plt.text(C\\[i, 0].item(), C\\[i, 1].item(), itos\\[i], ha=\"center\", va=\"center\", color=\"white\")\\\n",
    "plt.grid('minor')\\"
   ]
  },
  {
   "cell_type": "code",
   "execution_count": 26,
   "id": "2703dbfb-9c49-4599-bd63-ce3c1173f919",
   "metadata": {},
   "outputs": [
    {
     "name": "stdout",
     "output_type": "stream",
     "text": [
      "aymiah.\n",
      "kyra.\n",
      "cazaraina.\n",
      "yyabellesten.\n",
      "tahman.\n",
      "safton.\n",
      "kamarose.\n",
      "jussa.\n",
      "arthamar.\n",
      "siil.\n",
      "jasloy.\n",
      "anshadeon.\n",
      "kariai.\n",
      "ggas.\n",
      "malane.\n",
      "avarthit.\n",
      "choy.\n",
      "zavistia.\n",
      "xul.\n",
      "kaylon.\n"
     ]
    }
   ],
   "source": [
    "# Sampling from the model\n",
    "\n",
    "for _ in range(20):\n",
    "    out = []\n",
    "    context = [0] * block_size\n",
    "    while True:\n",
    "        emb = C[torch.tensor([context])]\n",
    "        h = torch.tanh(emb.view(1, -1) @ W1 + b1)\n",
    "        logits = h @ W2 + b2\n",
    "        probs = F.softmax(logits, dim=1)\n",
    "        ix = torch.multinomial(probs, num_samples=1, generator=g).item()\n",
    "        context = context[1:] + [ix]\n",
    "        out.append(itos[ix])\n",
    "        if ix == 0:\n",
    "            break\n",
    "    print(''.join(out))\n"
   ]
  },
  {
   "cell_type": "code",
   "execution_count": null,
   "id": "74df9a6a-9471-49d2-ba8d-014cd0003043",
   "metadata": {},
   "outputs": [],
   "source": []
  }
 ],
 "metadata": {
  "kernelspec": {
   "display_name": "Python 3 (ipykernel)",
   "language": "python",
   "name": "python3"
  },
  "language_info": {
   "codemirror_mode": {
    "name": "ipython",
    "version": 3
   },
   "file_extension": ".py",
   "mimetype": "text/x-python",
   "name": "python",
   "nbconvert_exporter": "python",
   "pygments_lexer": "ipython3",
   "version": "3.12.3"
  }
 },
 "nbformat": 4,
 "nbformat_minor": 5
}
