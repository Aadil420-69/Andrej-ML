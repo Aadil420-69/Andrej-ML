{
 "cells": [
  {
   "cell_type": "code",
   "execution_count": 1,
   "id": "f1c02218-b836-4abf-90cc-301d8e1d6ac0",
   "metadata": {},
   "outputs": [],
   "source": [
    "import torch\n",
    "import torch.nn.functional as F\n",
    "import matplotlib.pyplot as plt\n",
    "%matplotlib inline\n",
    "\n",
    "import random\n",
    "random.seed(42)"
   ]
  },
  {
   "cell_type": "code",
   "execution_count": 2,
   "id": "527e8130-d71c-4f73-92bc-0ae34c95a9ef",
   "metadata": {},
   "outputs": [
    {
     "data": {
      "text/plain": [
       "['emma', 'olivia', 'ava', 'isabella', 'sophia', 'charlotte', 'mia', 'amelia']"
      ]
     },
     "execution_count": 2,
     "metadata": {},
     "output_type": "execute_result"
    }
   ],
   "source": [
    "words = open('names.txt', 'r').read().splitlines()\n",
    "words[:8]"
   ]
  },
  {
   "cell_type": "code",
   "execution_count": 4,
   "id": "c426080a-d916-424b-b417-bc22ed541e18",
   "metadata": {},
   "outputs": [],
   "source": [
    "# build the mapping of each letter\n",
    "\n",
    "abc = 'abcdefghijklmnopqrstuvwxyz'\n",
    "stoi = {s: i+1 for i, s in enumerate(abc)}\n",
    "stoi['.'] = 0\n",
    "itos = {i: s for s, i in stoi.items()}"
   ]
  },
  {
   "cell_type": "code",
   "execution_count": 14,
   "id": "51a4a69c-bfc4-4937-80bb-562cbbab9106",
   "metadata": {},
   "outputs": [
    {
     "name": "stdout",
     "output_type": "stream",
     "text": [
      "torch.Size([182383, 3]) torch.Size([182383])\n",
      "torch.Size([22907, 3]) torch.Size([22907])\n",
      "torch.Size([22856, 3]) torch.Size([22856])\n"
     ]
    }
   ],
   "source": [
    "# build the databse\n",
    "block_size = 3\n",
    "def build_dataset(words):\n",
    "    X, Y = [], []\n",
    "    for w in words:\n",
    "        context = [0] * block_size\n",
    "        for ch in w + '.':\n",
    "            ix = stoi[ch]\n",
    "            X.append(context)\n",
    "            Y.append(ix)\n",
    "            context = context[1:] + [ix]\n",
    "    \n",
    "    X = torch.tensor(X)\n",
    "    Y = torch.tensor(Y)\n",
    "    print(X.shape, Y.shape)\n",
    "    return X, Y\n",
    "\n",
    "random.shuffle(words)\n",
    "n1 = int(0.8 * len(words))\n",
    "n2 = int(0.9 * len(words))\n",
    "\n",
    "# training, dev and test split\n",
    "# 80%   10%   10%\n",
    "Xtr, Ytr = build_dataset(words[:n1])\n",
    "Xdev, Ydev = build_dataset(words[n1:n2])\n",
    "Xte, Yte = build_dataset(words[n2:])"
   ]
  },
  {
   "cell_type": "code",
   "execution_count": 6,
   "id": "f0bfa757-8625-407a-b16c-dbdbc26f5e42",
   "metadata": {},
   "outputs": [
    {
     "name": "stdout",
     "output_type": "stream",
     "text": [
      "We have 11897 number of parameters!\n"
     ]
    }
   ],
   "source": [
    "# All the parameters\n",
    "\n",
    "g = torch.Generator().manual_seed(2147483647)\n",
    "C = torch.randn((27, 10), requires_grad=True, generator=g)\n",
    "W1 = torch.randn((30, 200), requires_grad=True, generator=g)\n",
    "b1 = torch.randn(200, requires_grad=True, generator=g)\n",
    "W2 = torch.randn((200, 27), requires_grad=True, generator=g)\n",
    "b2 = torch.randn(27, requires_grad=True, generator=g)\n",
    "\n",
    "parameters = [C, W1, b1, W2, b2]\n",
    "print('We have', sum([p.nelement() for p in parameters]), 'number of parameters!')"
   ]
  },
  {
   "cell_type": "code",
   "execution_count": 7,
   "id": "938af283-235b-4d24-a17b-27f49e9917aa",
   "metadata": {},
   "outputs": [],
   "source": [
    "# Creating an array for Learning Rates\n",
    "lre = torch.linspace(-3, 0, 1000)\n",
    "lrs = 10**lre"
   ]
  },
  {
   "cell_type": "code",
   "execution_count": 8,
   "id": "6e969a77-5205-4ce7-8ce0-4ff58b140824",
   "metadata": {},
   "outputs": [],
   "source": [
    "lrsi = []\n",
    "lossi = []\n",
    "stepi = []"
   ]
  },
  {
   "cell_type": "code",
   "execution_count": 9,
   "id": "32b98bcb-5c8c-44c8-b784-37653b55fd12",
   "metadata": {},
   "outputs": [
    {
     "name": "stdout",
     "output_type": "stream",
     "text": [
      "1.981011152267456\n"
     ]
    }
   ],
   "source": [
    "# for lr in lrs:\n",
    "for i in range(200_000):\n",
    "    # Construct Minibatch\n",
    "    ix = torch.randint(0, Xtr.shape[0], (32, ))\n",
    "\n",
    "    # Forward Pass\n",
    "    emb = C[Xtr[ix]]\n",
    "    h = (emb.view(-1, 30) @ W1 + b1).tanh()\n",
    "    logits = h @ W2 + b2\n",
    "    loss = F.cross_entropy(logits, Ytr[ix])\n",
    "    \n",
    "    # Backward Pass\n",
    "    for p in parameters:\n",
    "        p.grad = None\n",
    "    loss.backward()\n",
    "    \n",
    "    # Update\n",
    "    # lr = lrs[i]\n",
    "    lr = 0.1 if i < 100_000 else 0.01\n",
    "    for p in parameters:\n",
    "        p.data -= lr * p.grad\n",
    "\n",
    "    # track stats\n",
    "    stepi.append(i)\n",
    "    # lrsi.append(lre[i])\n",
    "    lossi.append(loss.log10().item())\n",
    "\n",
    "print(loss.item())"
   ]
  },
  {
   "cell_type": "code",
   "execution_count": 10,
   "id": "9cd83e36-8781-4a24-b304-1e851c36e7e6",
   "metadata": {},
   "outputs": [
    {
     "data": {
      "text/plain": [
       "[<matplotlib.lines.Line2D at 0x23df39ac5c0>]"
      ]
     },
     "execution_count": 10,
     "metadata": {},
     "output_type": "execute_result"
    },
    {
     "data": {
      "image/png": "[encoded data removed]",
      "text/plain": [
       "<Figure size 640x480 with 1 Axes>"
      ]
     },
     "metadata": {},
     "output_type": "display_data"
    }
   ],
   "source": [
    "# use the graph to see good learning rates\\\n",
    "# plt.plot(lrsi, lossi)\n",
    "plt.plot(stepi, lossi)\n"
   ]
  },
  {
   "cell_type": "code",
   "execution_count": 11,
   "id": "9baea221-03f3-4dce-934c-9f9fa1780c2c",
   "metadata": {},
   "outputs": [
    {
     "data": {
      "text/plain": [
       "tensor(2.1293, grad_fn=<NllLossBackward0>)"
      ]
     },
     "execution_count": 11,
     "metadata": {},
     "output_type": "execute_result"
    }
   ],
   "source": [
    "# Loss with training set\n",
    "emb = C[Xtr]\n",
    "h = (emb.view(-1, 30) @ W1 + b1).tanh()\n",
    "logits = h @ W2 + b2\n",
    "loss = F.cross_entropy(logits, Ytr)\n",
    "loss"
   ]
  },
  {
   "cell_type": "code",
   "execution_count": 12,
   "id": "97d61315-360c-4d73-baa6-50840a418682",
   "metadata": {},
   "outputs": [
    {
     "data": {
      "text/plain": [
       "tensor(2.1758, grad_fn=<NllLossBackward0>)"
      ]
     },
     "execution_count": 12,
     "metadata": {},
     "output_type": "execute_result"
    }
   ],
   "source": [
    "# Loss with dev set\n",
    "emb = C[Xdev]\n",
    "h = (emb.view(-1, 30) @ W1 + b1).tanh()\n",
    "logits = h @ W2 + b2\n",
    "loss = F.cross_entropy(logits, Ydev)\n",
    "loss"
   ]
  },
  {
   "cell_type": "code",
   "execution_count": 15,
   "id": "9b3d9351-2aa3-4bc9-b18c-612589b0c8ec",
   "metadata": {},
   "outputs": [
    {
     "name": "stdout",
     "output_type": "stream",
     "text": [
      "aymidah.\n",
      "roku.\n",
      "macarianayya.\n",
      "greeshey.\n",
      "tahmanasafaite.\n",
      "paasora.\n",
      "rissa.\n",
      "ara.\n",
      "kaysani.\n",
      "hriellonethiganson.\n",
      "krin.\n",
      "isrey.\n",
      "paviana.\n",
      "auhattie.\n",
      "choy.\n",
      "zavishal.\n",
      "xaynovalon.\n",
      "jaymonsaalo.\n",
      "ruzahir.\n",
      "bhait.\n"
     ]
    }
   ],
   "source": [
    "# Sampling from the model\n",
    "\n",
    "for _ in range(20):\n",
    "    out = []\n",
    "    context = [0] * block_size\n",
    "    while True:\n",
    "        emb = C[torch.tensor([context])]\n",
    "        h = torch.tanh(emb.view(1, -1) @ W1 + b1)\n",
    "        logits = h @ W2 + b2\n",
    "        probs = F.softmax(logits, dim=1)\n",
    "        ix = torch.multinomial(probs, num_samples=1, generator=g).item()\n",
    "        context = context[1:] + [ix]\n",
    "        out.append(itos[ix])\n",
    "        if ix == 0:\n",
    "            break\n",
    "    print(''.join(out))\n"
   ]
  },
  {
   "cell_type": "markdown",
   "id": "50a947be-3e58-4d23-a074-45b8bf7d8092",
   "metadata": {},
   "source": [
    "\\# To visualize the C tensor when it was 2d\\\n",
    "plt.figure(figsize=(8, 8))\\\n",
    "plt.scatter(C\\[:, 0].data, C\\[:, 1].data, s=200)\\\n",
    "for i in range(C.shape\\[0]):\\\n",
    "    plt.text(C\\[i, 0].item(), C\\[i, 1].item(), itos\\[i], ha=\"center\", va=\"center\", color=\"white\")\\\n",
    "plt.grid('minor')\\"
   ]
  },
  {
   "cell_type": "code",
   "execution_count": null,
   "id": "57deaad8-8d44-479f-99cb-6c8bb9464314",
   "metadata": {},
   "outputs": [],
   "source": []
  }
 ],
 "metadata": {
  "kernelspec": {
   "display_name": "Python 3 (ipykernel)",
   "language": "python",
   "name": "python3"
  },
  "language_info": {
   "codemirror_mode": {
    "name": "ipython",
    "version": 3
   },
   "file_extension": ".py",
   "mimetype": "text/x-python",
   "name": "python",
   "nbconvert_exporter": "python",
   "pygments_lexer": "ipython3",
   "version": "3.12.3"
  }
 },
 "nbformat": 4,
 "nbformat_minor": 5
}
