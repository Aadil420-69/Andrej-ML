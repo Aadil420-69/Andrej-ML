{
 "cells": [
  {
   "cell_type": "code",
   "execution_count": null,
   "metadata": {},
   "outputs": [],
   "source": [
    "import math\n",
    "import random\n",
    "import numpy as np\n",
    "import matplotlib.pyplot as plt\n",
    "%matplotlib inline\n",
    "\n",
    "from .Value import Value\n",
    "from .Neuron import Neuron"
   ]
  },
  {
   "cell_type": "code",
   "execution_count": null,
   "metadata": {},
   "outputs": [],
   "source": [
    "from graphviz import Digraph\n",
    "\n",
    "def trace(root):\n",
    "\t# builds a set of all nodes and edges in a graph\n",
    "\tnodes, edges = set(), set()\n",
    "\tdef build(v):\n",
    "\t\tif v not in nodes:\n",
    "\t\t\tnodes.add(v)\n",
    "\t\t\tfor child in v._prev:\n",
    "\t\t\t\tedges.add((child, v))\n",
    "\t\t\t\tbuild(child)\n",
    "\tbuild(root)\n",
    "\treturn nodes, edges\n",
    "\n",
    "def draw_dot(root):\n",
    "\tdot = Digraph(format='svg', graph_attr={'rankdir': 'LR'}) # LR: Left to Right\n",
    "\tnodes, edges = trace(root)\n",
    "\tfor n in nodes:\n",
    "\t\tuid = str(id(n))\n",
    "\t\t# for any value in the graph, create a rectangular ('record') node for it\n",
    "\t\tdot.node(name = uid, label = \"{ %s | data %.4f | grad %.4f }\" % (n.label ,n.data, n.grad), shape='record')\n",
    "\t\tif n._op:\n",
    "\t\t\t# if this value is a result of some operation, then create an op node for it \n",
    "\t\t\tdot.node(name = uid + n._op, label = n._op)\n",
    "\t\t\t# and connect this node to it\n",
    "\t\t\tdot.edge(uid + n._op, uid)\n",
    "\n",
    "\tfor n1, n2 in edges:\n",
    "\t\t# connect n1 to the op of n2\n",
    "\t\tdot.edge(str(id(n1)), str(id(n2)) + n2._op)\n",
    "\n",
    "\treturn dot\n"
   ]
  },
  {
   "cell_type": "code",
   "execution_count": null,
   "metadata": {},
   "outputs": [],
   "source": [
    "def topo(root):\n",
    "\ttopo = []\n",
    "\tvisited = set()\n",
    "\tdef build_topo(v):\n",
    "\t\tif v not in visited:\n",
    "\t\t\tvisited.add(v)\n",
    "\t\t\tfor child in v._prev:\n",
    "\t\t\t\tbuild_topo(child)\n",
    "\t\t\ttopo.append(v)\n",
    "\tbuild_topo(root)\n",
    "\treturn topo\n"
   ]
  },
  {
   "cell_type": "code",
   "execution_count": null,
   "metadata": {},
   "outputs": [],
   "source": [
    "def tweak(data, iterations=20, inc=0.05):\n",
    "\txs, ys, n = data\n",
    "\tfor k in range(iterations):\n",
    "\t\t# Forward Pass\n",
    "\t\typred = [n(x) for x in xs]\n",
    "\t\tloss = sum((yout - ygt)**2 for ygt, yout in zip(ys, ypred))\n",
    "\n",
    "\t\t# Zero grad\n",
    "\t\tfor p in n.parameters():\n",
    "\t\t\tp.grad = 0.0\n",
    "\n",
    "\t\t# Backward\n",
    "\t\tloss.backward()\n",
    "\n",
    "\t\t# Update\n",
    "\t\tfor p in n.parameters():\n",
    "\t\t\tp.data -= inc * p.grad\n",
    "\n",
    "\t\tprint(k, loss.data)\n",
    "\treturn (xs, ys, n)\n"
   ]
  }
 ],
 "metadata": {
  "language_info": {
   "name": "python"
  }
 },
 "nbformat": 4,
 "nbformat_minor": 2
}
