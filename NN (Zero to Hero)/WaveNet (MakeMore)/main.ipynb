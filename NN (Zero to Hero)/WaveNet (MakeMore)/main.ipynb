{
 "cells": [
  {
   "cell_type": "markdown",
   "id": "6e6a4994-dfe7-4752-9f47-3c62f2c81c81",
   "metadata": {},
   "source": [
    "# Importing and Stuff"
   ]
  },
  {
   "cell_type": "code",
   "execution_count": 1,
   "id": "c1712c3e-16c1-49ce-b4d0-5ab6803f4ffd",
   "metadata": {},
   "outputs": [],
   "source": [
    "import torch\n",
    "import torch.nn.functional as F\n",
    "import matplotlib.pyplot as plt\n",
    "%matplotlib inline"
   ]
  },
  {
   "cell_type": "code",
   "execution_count": 2,
   "id": "9a3f6455-95bf-4602-bd1a-d41974ff4376",
   "metadata": {},
   "outputs": [
    {
     "data": {
      "text/plain": [
       "['emma', 'olivia', 'ava', 'isabella', 'sophia', 'charlotte', 'mia', 'amelia']"
      ]
     },
     "execution_count": 2,
     "metadata": {},
     "output_type": "execute_result"
    }
   ],
   "source": [
    "# Get the words\n",
    "words = open('names.txt', 'r').read().splitlines()\n",
    "words[:8]"
   ]
  },
  {
   "cell_type": "code",
   "execution_count": 3,
   "id": "0ae13e61-2d30-46eb-b026-f21015db81d2",
   "metadata": {},
   "outputs": [],
   "source": [
    "# build the mapping of each letter\n",
    "\n",
    "abc = '.abcdefghijklmnopqrstuvwxyz'\n",
    "vocab_size = len(abc)\n",
    "\n",
    "stoi = {s: i for i, s in enumerate(abc)}\n",
    "itos = {i: s for s, i in stoi.items()}"
   ]
  },
  {
   "cell_type": "code",
   "execution_count": 4,
   "id": "90586cf3-527c-487a-94b3-4b1c609642ac",
   "metadata": {},
   "outputs": [],
   "source": [
    "# Shuffle the Words\n",
    "\n",
    "import random\n",
    "random.seed(42)\n",
    "random.shuffle(words)"
   ]
  },
  {
   "cell_type": "code",
   "execution_count": 57,
   "id": "93a13b04-29ad-496c-8194-dea1ee0490a7",
   "metadata": {},
   "outputs": [
    {
     "name": "stdout",
     "output_type": "stream",
     "text": [
      "torch.Size([182587, 8]) torch.Size([182587])\n",
      "torch.Size([22709, 8]) torch.Size([22709])\n",
      "torch.Size([22850, 8]) torch.Size([22850])\n"
     ]
    }
   ],
   "source": [
    "# build the databse\n",
    "block_size = 8\n",
    "\n",
    "def build_dataset(words):\n",
    "    X, Y = [], []\n",
    "    for w in words:\n",
    "        context = [0] * block_size\n",
    "        for ch in w + '.':\n",
    "            ix = stoi[ch]\n",
    "            X.append(context)\n",
    "            Y.append(ix)\n",
    "            context = context[1:] + [ix]\n",
    "    \n",
    "    X = torch.tensor(X)\n",
    "    Y = torch.tensor(Y)\n",
    "    print(X.shape, Y.shape)\n",
    "    return X, Y\n",
    "\n",
    "random.shuffle(words)\n",
    "n1 = int(0.8 * len(words))\n",
    "n2 = int(0.9 * len(words))\n",
    "\n",
    "# training, dev and test split\n",
    "# 80%   10%   10%\n",
    "Xtr, Ytr = build_dataset(words[:n1])\n",
    "Xdev, Ydev = build_dataset(words[n1:n2])\n",
    "Xte, Yte = build_dataset(words[n2:])"
   ]
  },
  {
   "cell_type": "code",
   "execution_count": 58,
   "id": "3f313b40-1b9f-45da-b712-beb79ea3d546",
   "metadata": {},
   "outputs": [
    {
     "name": "stdout",
     "output_type": "stream",
     "text": [
      "........ ---> m\n",
      ".......m ---> o\n",
      "......mo ---> r\n",
      ".....mor ---> g\n",
      "....morg ---> a\n",
      "...morga ---> n\n",
      "..morgan ---> .\n",
      "........ ---> f\n",
      ".......f ---> i\n",
      "......fi ---> l\n",
      ".....fil ---> i\n",
      "....fili ---> p\n",
      "...filip ---> p\n",
      "..filipp ---> o\n",
      ".filippo ---> .\n",
      "........ ---> m\n",
      ".......m ---> a\n",
      "......ma ---> i\n",
      ".....mai ---> t\n",
      "....mait ---> r\n"
     ]
    }
   ],
   "source": [
    "for x, y in zip(Xtr[:20], Ytr[:20]):\n",
    "    print(''.join(itos[ix.item()] for ix in x), '--->', itos[y.item()])"
   ]
  },
  {
   "cell_type": "code",
   "execution_count": 59,
   "id": "971d8537-5412-423b-8019-b7f98e8e1cf2",
   "metadata": {},
   "outputs": [],
   "source": [
    "# Classes (or modules) for all the operations\n",
    "\n",
    "# -----------------------------------------------------------------------------------------------------------------------------------\n",
    "class Linear:\n",
    "    def __init__(self, fan_in, fan_out, bias=True):\n",
    "        self.weight = torch.randn((fan_in, fan_out)) / fan_in**0.5    # kaiming init\n",
    "        self.bias = torch.zeros(fan_out) if bias else None\n",
    "\n",
    "    def __call__(self, x):\n",
    "        self.out = x @ self.weight\n",
    "        if self.bias is not None:\n",
    "            self.out += self.bias\n",
    "        return self.out\n",
    "\n",
    "    def parameters(self):\n",
    "        return [self.weight] + ([self.bias] if self.bias is not None else [])\n",
    "\n",
    "# -----------------------------------------------------------------------------------------------------------------------------------\n",
    "class BatchNorm1D:\n",
    "    def __init__(self, dim, eps=1e-5, momentum=0.1):\n",
    "        self.eps = eps\n",
    "        self.momentum = momentum\n",
    "        self.training = True\n",
    "        # Parameters (trained with backprop)\n",
    "        self.gamma = torch.ones(dim)\n",
    "        self.beta = torch.zeros(dim)\n",
    "        # Buffers (trained with a running 'momentum update')\n",
    "        self.running_mean = torch.zeros((1, dim))\n",
    "        self.running_var = torch.ones((1, dim))    # variance\n",
    "\n",
    "    def __call__(self, x):\n",
    "        # Calculate the forward pass\n",
    "        if self.training:\n",
    "            if x.ndim == 2:\n",
    "                dim = 0\n",
    "            elif x.ndim == 3:\n",
    "                dim = (0, 1)\n",
    "            xmean = x.mean(dim, keepdim=True)\n",
    "            xvar = x.var(dim, keepdim=True)\n",
    "        else:\n",
    "            xmean = self.running_mean\n",
    "            xvar = self.running_var\n",
    "        xhat = (x - xmean) / torch.sqrt(xvar + self.eps)    # normalise to unit variance\n",
    "        self.out = self.gamma * xhat + self.beta\n",
    "        # Update the buffers\n",
    "        if self.training:\n",
    "            with torch.no_grad():\n",
    "                self.running_mean = (1 - self.momentum) * self.running_mean + self.momentum * xmean\n",
    "                self.running_var = (1 - self.momentum) * self.running_var + self.momentum * xvar\n",
    "                # self.running_mean += self.momentum * (-self.running_mean + xmean)\n",
    "                # self.running_var += self.momentum * (xvar - self.running_var)\n",
    "        return self.out\n",
    "    \n",
    "    def parameters(self):\n",
    "        return [self.gamma, self.beta]\n",
    "\n",
    "# -----------------------------------------------------------------------------------------------------------------------------------\n",
    "class Tanh:\n",
    "    def __call__(self, x):\n",
    "        self.out = torch.tanh(x)\n",
    "        return self.out\n",
    "\n",
    "    def parameters(self):\n",
    "        return []\n",
    "\n",
    "# -----------------------------------------------------------------------------------------------------------------------------------\n",
    "class Embedding:\n",
    "    def __init__(self, num_embeddings, embedding_dim):\n",
    "        self.weight = torch.randn((num_embeddings, embedding_dim))\n",
    "\n",
    "    def __call__(self, IX):\n",
    "        self.out = self.weight[IX]\n",
    "        return self.out\n",
    "\n",
    "    def parameters(self):\n",
    "        return [self.weight]\n",
    "\n",
    "# -----------------------------------------------------------------------------------------------------------------------------------\n",
    "class FlattenConsecutive:\n",
    "    def __init__(self, n):\n",
    "        self.n = n\n",
    "\n",
    "    def __call__(self, x):\n",
    "        B, T, C = x.shape\n",
    "        x = x.view(B, T//self.n, C*self.n)\n",
    "        # if x.shape[1] == 1:\n",
    "        x = x.squeeze(1)\n",
    "        self.out = x\n",
    "        return self.out\n",
    "\n",
    "    def parameters(self):\n",
    "        return []\n",
    "\n",
    "# -----------------------------------------------------------------------------------------------------------------------------------\n",
    "class Sequential:\n",
    "    def __init__(self, layers):\n",
    "        self.layers = layers\n",
    "\n",
    "    def __call__(self, x):\n",
    "        for layer in self.layers:\n",
    "            x = layer(x)\n",
    "        self.out = x\n",
    "        return self.out\n",
    "\n",
    "    def parameters(self):\n",
    "        # Returns parameters of all the layers and strteches them into 1 list\n",
    "        return [p for layer in self.layers for p in layer.parameters()]\n"
   ]
  },
  {
   "cell_type": "code",
   "execution_count": 7,
   "id": "2b841826-71c9-4545-b3b5-5f23fc682936",
   "metadata": {},
   "outputs": [],
   "source": [
    "torch.manual_seed(42);    # same as generator"
   ]
  },
  {
   "cell_type": "code",
   "execution_count": 64,
   "id": "e6e46145-670a-4eb2-ac32-197081407c6c",
   "metadata": {},
   "outputs": [
    {
     "name": "stdout",
     "output_type": "stream",
     "text": [
      "We have 76579 number of parameters!\n"
     ]
    }
   ],
   "source": [
    "# Initialising the NN\n",
    "n_embd = 24    # the dimensionality of the character embedding vector\n",
    "n_hidden = 128    # the number of neurons in the hidden layer of MLP\n",
    "\n",
    "model = Sequential([\n",
    "    Embedding(vocab_size, n_embd),\n",
    "    FlattenConsecutive(2), Linear(n_embd * 2, n_hidden, bias=False), BatchNorm1D(n_hidden), Tanh(),\n",
    "    FlattenConsecutive(2), Linear(n_hidden * 2, n_hidden, bias=False), BatchNorm1D(n_hidden), Tanh(),\n",
    "    FlattenConsecutive(2), Linear(n_hidden * 2, n_hidden, bias=False), BatchNorm1D(n_hidden), Tanh(),\n",
    "    Linear(n_hidden, vocab_size),\n",
    "])\n",
    "\n",
    "# model = Sequential([\n",
    "#     Embedding(vocab_size, n_embd),\n",
    "#     FlattenConsecutive(block_size),\n",
    "#     Linear(n_embd * block_size, n_hidden, bias=False), BatchNorm1D(n_hidden), Tanh(),\n",
    "#     Linear(n_hidden, vocab_size),\n",
    "# ])\n",
    "\n",
    "# parameter init\n",
    "with torch.no_grad():\n",
    "  model.layers[-1].weight *= 0.1 # last layer make less confident\n",
    "\n",
    "parameters = model.parameters()\n",
    "print('We have', sum([p.nelement() for p in parameters]), 'number of parameters!')\n",
    "\n",
    "for p in parameters:\n",
    "    p.requires_grad = True\n",
    "    "
   ]
  },
  {
   "cell_type": "code",
   "execution_count": 65,
   "id": "d91d22f0-23f9-492b-9bf4-961308843c2f",
   "metadata": {},
   "outputs": [
    {
     "name": "stdout",
     "output_type": "stream",
     "text": [
      "torch.Size([4, 8])\n"
     ]
    },
    {
     "data": {
      "text/plain": [
       "tensor([[ 0,  0,  0,  0,  0,  0,  0,  1],\n",
       "        [ 0,  0,  0,  0,  0,  0,  0, 19],\n",
       "        [ 0,  0,  0,  0,  0,  0,  1, 20],\n",
       "        [ 0,  0,  0,  0, 26,  8,  9,  8]])"
      ]
     },
     "execution_count": 65,
     "metadata": {},
     "output_type": "execute_result"
    }
   ],
   "source": [
    "# Inspect randomly 4\n",
    "ix = torch.randint(0, Xtr.shape[0], (4, ))\n",
    "Xb, Yb = Xtr[ix], Ytr[ix]\n",
    "logits = model(Xb)\n",
    "print(Xb.shape)\n",
    "Xb"
   ]
  },
  {
   "cell_type": "code",
   "execution_count": 66,
   "id": "4f3177b1-1cc7-4aa7-8c88-b86658e09231",
   "metadata": {},
   "outputs": [
    {
     "name": "stdout",
     "output_type": "stream",
     "text": [
      "Embedding : (4, 8, 24)\n",
      "FlattenConsecutive : (4, 4, 48)\n",
      "Linear : (4, 4, 128)\n",
      "BatchNorm1D : (4, 4, 128)\n",
      "Tanh : (4, 4, 128)\n",
      "FlattenConsecutive : (4, 2, 256)\n",
      "Linear : (4, 2, 128)\n",
      "BatchNorm1D : (4, 2, 128)\n",
      "Tanh : (4, 2, 128)\n",
      "FlattenConsecutive : (4, 256)\n",
      "Linear : (4, 128)\n",
      "BatchNorm1D : (4, 128)\n",
      "Tanh : (4, 128)\n",
      "Linear : (4, 27)\n"
     ]
    }
   ],
   "source": [
    "for layer in model.layers:\n",
    "    print(layer.__class__.__name__, ':', tuple(layer.out.shape))\n"
   ]
  },
  {
   "cell_type": "code",
   "execution_count": 67,
   "id": "8e010684-4b3d-43a8-b445-0be6587f0acc",
   "metadata": {},
   "outputs": [
    {
     "name": "stdout",
     "output_type": "stream",
     "text": [
      "      0 /  200000: 3.3417\n",
      "  10000 /  200000: 2.2609\n",
      "  20000 /  200000: 2.2523\n",
      "  30000 /  200000: 1.9805\n",
      "  40000 /  200000: 1.9963\n",
      "  50000 /  200000: 1.9888\n",
      "  60000 /  200000: 2.0862\n",
      "  70000 /  200000: 1.7570\n",
      "  80000 /  200000: 2.3376\n",
      "  90000 /  200000: 1.5844\n",
      " 100000 /  200000: 2.1180\n",
      " 110000 /  200000: 2.2388\n",
      " 120000 /  200000: 1.7605\n",
      " 130000 /  200000: 2.5333\n",
      " 140000 /  200000: 1.8871\n",
      " 150000 /  200000: 1.7655\n",
      " 160000 /  200000: 1.9375\n",
      " 170000 /  200000: 1.4979\n",
      " 180000 /  200000: 1.8717\n",
      " 190000 /  200000: 1.8345\n",
      "Done\n"
     ]
    }
   ],
   "source": [
    "max_steps = 2_00_000\n",
    "batch_size = 32\n",
    "lossi = []\n",
    "# ud = []\n",
    "\n",
    "for i in range(max_steps):\n",
    "    # Construct Minibatch\n",
    "    ix = torch.randint(0, Xtr.shape[0], (batch_size, ))\n",
    "    Xb, Yb = Xtr[ix], Ytr[ix]    # Batch X, Y\n",
    "\n",
    "    # Forward Pass\n",
    "    logits = model(Xb)\n",
    "    loss = F.cross_entropy(logits, Yb)    # loss function\n",
    "    \n",
    "    for p in parameters:\n",
    "        p.grad = None\n",
    "    loss.backward()\n",
    "    \n",
    "    # Update: simple SGD\n",
    "    lr = 0.1 if i < 150_000 else 0.01    # step lr decay\n",
    "    for p in parameters:\n",
    "        p.data -= lr * p.grad\n",
    "\n",
    "    # track stats\n",
    "    if i % 10000 == 0:    # print every once in a while\n",
    "        print(f'{i:7d} / {max_steps:7d}: {loss.item():.4f}')\n",
    "    lossi.append(loss.log10().item())\n",
    "    # break\n",
    "\n",
    "print('Done')"
   ]
  },
  {
   "cell_type": "raw",
   "id": "a4170a16-ee40-4419-aa3e-ab664425fbc3",
   "metadata": {},
   "source": [
    "# Not The best way to visualize\n",
    "plt.plot(lossi)"
   ]
  },
  {
   "cell_type": "code",
   "execution_count": 68,
   "id": "5f7bca80-83a6-4939-9701-cd24a07178d2",
   "metadata": {},
   "outputs": [
    {
     "data": {
      "text/plain": [
       "[<matplotlib.lines.Line2D at 0x1503ee8deb0>]"
      ]
     },
     "execution_count": 68,
     "metadata": {},
     "output_type": "execute_result"
    },
    {
     "data": {
      "image/png": "[encoded data removed]",
      "text/plain": [
       "<Figure size 640x480 with 1 Axes>"
      ]
     },
     "metadata": {},
     "output_type": "display_data"
    }
   ],
   "source": [
    "# much better\n",
    "plt.plot(torch.tensor(lossi).view(-1, 1000).mean(1))"
   ]
  },
  {
   "cell_type": "code",
   "execution_count": 69,
   "id": "6f295df8-e079-41a7-932d-2f54da68fc0c",
   "metadata": {},
   "outputs": [],
   "source": [
    "# put layers into eval mode (needed for bn specifically)\n",
    "for layer in model.layers:\n",
    "    layer.training = False"
   ]
  },
  {
   "cell_type": "code",
   "execution_count": 70,
   "id": "4912bec9-aae6-4702-a2ac-4e9616fe9057",
   "metadata": {},
   "outputs": [
    {
     "name": "stdout",
     "output_type": "stream",
     "text": [
      "train 1.7670259475708008\n",
      "dev 1.9914236068725586\n"
     ]
    }
   ],
   "source": [
    "# evaluate the loss\n",
    "@torch.no_grad()    # disables gradient tracking\n",
    "def split_loss(split):\n",
    "    x, y = {\n",
    "        'train': (Xtr, Ytr),\n",
    "        'dev': (Xdev, Ydev),\n",
    "        'test': (Xte, Yte)\n",
    "    }[split]\n",
    "\n",
    "    logits = model(x)\n",
    "    loss = F.cross_entropy(logits, y)\n",
    "    print(split, loss.item())\n",
    "\n",
    "split_loss('train')\n",
    "split_loss('dev')"
   ]
  },
  {
   "cell_type": "code",
   "execution_count": 55,
   "id": "2c242fd6-0638-4607-a3cb-8668307f5983",
   "metadata": {},
   "outputs": [
    {
     "name": "stdout",
     "output_type": "stream",
     "text": [
      "arthanh.\n",
      "asadara.\n",
      "therion.\n",
      "ipdi.\n",
      "elizu.\n",
      "jefoncey.\n",
      "elmy.\n",
      "jenelle.\n",
      "gimmers.\n",
      "adidani.\n",
      "adierna.\n",
      "s.\n",
      "carison.\n",
      "finla.\n",
      "miko.\n",
      "vorah.\n",
      "braylox.\n",
      "caturn.\n",
      "leameil.\n",
      "emmaomer.\n"
     ]
    }
   ],
   "source": [
    "# Sample from the model\n",
    "\n",
    "for _ in range(20):\n",
    "    out = []\n",
    "    context = [0] * block_size    # initialise will all '...'\n",
    "\n",
    "    while True:\n",
    "        # Forward pass the NN\n",
    "        logits = model(torch.tensor([context]))\n",
    "        probs = F.softmax(logits, dim=1)\n",
    "\n",
    "        # Sample from the distribution\n",
    "        ix = torch.multinomial(probs, num_samples=1).item()\n",
    "\n",
    "        # Shift the context window\n",
    "        context = context[1:] + [ix]\n",
    "        out.append(ix)\n",
    "\n",
    "        # If we sample '.' token, break\n",
    "        if ix == 0:\n",
    "            break\n",
    "\n",
    "    print(''.join([itos[char] for char in out]))\n"
   ]
  },
  {
   "cell_type": "code",
   "execution_count": null,
   "id": "5687d4d5-2a82-4e99-ac33-8beefd46d251",
   "metadata": {},
   "outputs": [],
   "source": []
  }
 ],
 "metadata": {
  "kernelspec": {
   "display_name": "Python 3 (ipykernel)",
   "language": "python",
   "name": "python3"
  },
  "language_info": {
   "codemirror_mode": {
    "name": "ipython",
    "version": 3
   },
   "file_extension": ".py",
   "mimetype": "text/x-python",
   "name": "python",
   "nbconvert_exporter": "python",
   "pygments_lexer": "ipython3",
   "version": "3.12.3"
  }
 },
 "nbformat": 4,
 "nbformat_minor": 5
}
