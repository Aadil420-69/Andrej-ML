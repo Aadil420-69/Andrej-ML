{
 "cells": [
  {
   "cell_type": "code",
   "execution_count": 1,
   "id": "c1bddb11-6984-4fcb-ab46-1c36d9d3d847",
   "metadata": {},
   "outputs": [],
   "source": [
    "import torch\n",
    "import torch.nn.functional as F\n",
    "import matplotlib.pyplot as plt\n",
    "%matplotlib inline"
   ]
  },
  {
   "cell_type": "code",
   "execution_count": 2,
   "id": "25307f14-fc64-4299-9860-128902f9ff66",
   "metadata": {},
   "outputs": [
    {
     "data": {
      "text/plain": [
       "['emma',\n",
       " 'olivia',\n",
       " 'ava',\n",
       " 'isabella',\n",
       " 'sophia',\n",
       " 'charlotte',\n",
       " 'mia',\n",
       " 'amelia',\n",
       " 'harper',\n",
       " 'evelyn']"
      ]
     },
     "execution_count": 2,
     "metadata": {},
     "output_type": "execute_result"
    }
   ],
   "source": [
    "words = open('names.txt', 'r').read().splitlines()\n",
    "words[:10]"
   ]
  },
  {
   "cell_type": "code",
   "execution_count": 3,
   "id": "b946256a-48ad-4e76-a2c5-6681e4e3631d",
   "metadata": {},
   "outputs": [],
   "source": [
    "abc = 'abcdefghijklmnopqrstuvwxyz'\n",
    "stoi = {s: i+1 for i, s in enumerate(abc)}\n",
    "stoi['.'] = 0\n",
    "itos = {i: s for s, i in stoi.items()}"
   ]
  },
  {
   "cell_type": "code",
   "execution_count": 4,
   "id": "2dc711d3-c6b8-4c5c-94ac-cea0e120f8b5",
   "metadata": {},
   "outputs": [
    {
     "name": "stdout",
     "output_type": "stream",
     "text": [
      "Number of elemnets: 228146\n"
     ]
    }
   ],
   "source": [
    "xs, ys = [], []\n",
    "for w in words:\n",
    "    w = '..' + w + '.'\n",
    "    for ch1, ch2, ch3 in zip(w, w[1:], w[2:]):\n",
    "        # print(ch1, ch2, ch3)\n",
    "        xs.append([stoi[ch1], stoi[ch2]])\n",
    "        ys.append(stoi[ch3])\n",
    "xs = torch.tensor(xs)\n",
    "ys = torch.tensor(ys)\n",
    "num = ys.nelement()\n",
    "print('Number of elemnets:', num)"
   ]
  },
  {
   "cell_type": "code",
   "execution_count": 5,
   "id": "11adcacf-f754-4256-af43-6df491024e49",
   "metadata": {},
   "outputs": [
    {
     "data": {
      "text/plain": [
       "tensor([[ 0,  0],\n",
       "        [ 0,  5],\n",
       "        [ 5, 13],\n",
       "        [13, 13],\n",
       "        [13,  1],\n",
       "        [ 0,  0],\n",
       "        [ 0, 15],\n",
       "        [15, 12],\n",
       "        [12,  9],\n",
       "        [ 9, 22]])"
      ]
     },
     "execution_count": 5,
     "metadata": {},
     "output_type": "execute_result"
    }
   ],
   "source": [
    "xs[:10]"
   ]
  },
  {
   "cell_type": "code",
   "execution_count": 6,
   "id": "8ea86cd7-ada1-477b-bc95-58449d3ab6aa",
   "metadata": {},
   "outputs": [
    {
     "data": {
      "text/plain": [
       "tensor([ 5, 13, 13,  1,  0, 15, 12,  9, 22,  9])"
      ]
     },
     "execution_count": 6,
     "metadata": {},
     "output_type": "execute_result"
    }
   ],
   "source": [
    "ys[:10]"
   ]
  },
  {
   "cell_type": "code",
   "execution_count": 7,
   "id": "63a3caa3-cc9a-488a-86da-7c6a5a5c19f8",
   "metadata": {},
   "outputs": [
    {
     "data": {
      "text/plain": [
       "tensor([[1, 0, 0, 0, 0, 0, 0, 0, 0, 0, 0, 0, 0, 0, 0, 0, 0, 0, 0, 0, 0, 0, 0, 0,\n",
       "         0, 0, 0, 1, 0, 0, 0, 0, 0, 0, 0, 0, 0, 0, 0, 0, 0, 0, 0, 0, 0, 0, 0, 0,\n",
       "         0, 0, 0, 0, 0, 0],\n",
       "        [1, 0, 0, 0, 0, 0, 0, 0, 0, 0, 0, 0, 0, 0, 0, 0, 0, 0, 0, 0, 0, 0, 0, 0,\n",
       "         0, 0, 0, 0, 0, 0, 0, 0, 1, 0, 0, 0, 0, 0, 0, 0, 0, 0, 0, 0, 0, 0, 0, 0,\n",
       "         0, 0, 0, 0, 0, 0],\n",
       "        [0, 0, 0, 0, 0, 1, 0, 0, 0, 0, 0, 0, 0, 0, 0, 0, 0, 0, 0, 0, 0, 0, 0, 0,\n",
       "         0, 0, 0, 0, 0, 0, 0, 0, 0, 0, 0, 0, 0, 0, 0, 0, 1, 0, 0, 0, 0, 0, 0, 0,\n",
       "         0, 0, 0, 0, 0, 0]])"
      ]
     },
     "execution_count": 7,
     "metadata": {},
     "output_type": "execute_result"
    }
   ],
   "source": [
    "F.one_hot(xs, num_classes=27).view(-1, 27*2)[:3]"
   ]
  },
  {
   "cell_type": "code",
   "execution_count": 8,
   "id": "f787a658-e924-4327-8264-990230011543",
   "metadata": {},
   "outputs": [
    {
     "data": {
      "text/plain": [
       "tensor([ 0.2643, -0.4149, -0.6075,  0.7319, -0.1569, -0.8602, -0.8462, -0.3094,\n",
       "        -0.9846,  1.3006, -1.5222,  0.6169,  1.0747,  0.0317, -1.2312,  1.2970,\n",
       "        -1.4020, -0.7056,  1.4701,  0.0147,  0.6378,  1.3168,  1.2772,  0.0794,\n",
       "        -0.4374,  0.3369,  0.6316], grad_fn=<SelectBackward0>)"
      ]
     },
     "execution_count": 8,
     "metadata": {},
     "output_type": "execute_result"
    }
   ],
   "source": [
    "g = torch.Generator().manual_seed(123456789)\n",
    "W = torch.randn((27*2, 27), generator=g, requires_grad=True)\n",
    "W[0]"
   ]
  },
  {
   "cell_type": "code",
   "execution_count": 9,
   "id": "e18603d4-9714-4e26-8895-93589e6913dd",
   "metadata": {},
   "outputs": [
    {
     "data": {
      "text/plain": [
       "tensor(4.1910, grad_fn=<NegBackward0>)"
      ]
     },
     "execution_count": 9,
     "metadata": {},
     "output_type": "execute_result"
    }
   ],
   "source": [
    "xenc = F.one_hot(xs, num_classes=27).float().view(-1,2*27)\n",
    "logits = xenc @ W\n",
    "counts = logits.exp()\n",
    "probs = counts / counts.sum(1, keepdim=True)\n",
    "loss = -probs[torch.arange(num),ys].log().mean()\n",
    "loss"
   ]
  },
  {
   "cell_type": "code",
   "execution_count": 10,
   "id": "3393702a-7448-4882-94bb-76d53d406903",
   "metadata": {},
   "outputs": [],
   "source": [
    "W.grad = None\n",
    "loss.backward()\n",
    "arr = []"
   ]
  },
  {
   "cell_type": "code",
   "execution_count": 11,
   "id": "71018179-c122-4315-a90b-650c7f1aae33",
   "metadata": {},
   "outputs": [],
   "source": [
    "# W.data -= 5 * W.grad"
   ]
  },
  {
   "cell_type": "code",
   "execution_count": 18,
   "id": "02aa567a-5632-461f-ab4b-db5d87be62a6",
   "metadata": {
    "scrolled": true
   },
   "outputs": [
    {
     "name": "stdout",
     "output_type": "stream",
     "text": [
      "tensor(2.4762, grad_fn=<NegBackward0>)\n"
     ]
    },
    {
     "data": {
      "text/plain": [
       "[<matplotlib.lines.Line2D at 0x1348a0ae420>]"
      ]
     },
     "execution_count": 18,
     "metadata": {},
     "output_type": "execute_result"
    },
    {
     "data": {
      "image/png": "[encoded data removed]",
      "text/plain": [
       "<Figure size 640x480 with 1 Axes>"
      ]
     },
     "metadata": {},
     "output_type": "display_data"
    }
   ],
   "source": [
    "for k in range(400):\n",
    "    xenc = F.one_hot(xs, num_classes=27).float().view(-1,2*27)\n",
    "    logits = xenc @ W\n",
    "    counts = logits.exp()\n",
    "    probs = counts / counts.sum(1, keepdim=True)\n",
    "    loss = -probs[torch.arange(num),ys].log().mean()\n",
    "    arr.append(loss.detach())\n",
    "    # print(loss)\n",
    "\n",
    "    W.grad = None\n",
    "    loss.backward()\n",
    "\n",
    "    W.data -= 1 * W.grad\n",
    "\n",
    "print(loss)\n",
    "plt.plot(range(1, len(arr)+1), arr)"
   ]
  },
  {
   "cell_type": "code",
   "execution_count": 13,
   "id": "d256c786-cdd1-429d-b09a-2b6794015893",
   "metadata": {},
   "outputs": [
    {
     "name": "stdout",
     "output_type": "stream",
     "text": [
      "tensor([[ 4],\n",
      "        [12],\n",
      "        [ 5],\n",
      "        ...,\n",
      "        [ 0],\n",
      "        [ 7],\n",
      "        [25]])\n"
     ]
    }
   ],
   "source": [
    "xenc = F.one_hot(xs, num_classes=27).float().view(-1,2*27)\n",
    "logits = xenc @ W\n",
    "counts = logits.exp()\n",
    "p = counts / counts.sum(1, keepdim=True)\n",
    "\n",
    "print(torch.multinomial(p, num_samples=1, replacement=True, generator=g))\n"
   ]
  },
  {
   "cell_type": "code",
   "execution_count": 27,
   "id": "b67d3c48-9ad4-4926-9279-d6e448e7bddc",
   "metadata": {},
   "outputs": [
    {
     "name": "stdout",
     "output_type": "stream",
     "text": [
      "astulielilewm.\n",
      "ler.\n",
      "mera.\n",
      "da.\n",
      "cllan.\n",
      "[1, 19, 20, 21, 12, 9, 5, 12, 9, 12, 5, 23, 13, 0, 12, 5, 18, 0, 13, 5, 18, 1, 0, 4, 1, 0, 3, 12, 12, 1, 14, 0]\n"
     ]
    }
   ],
   "source": [
    "x1, x2 = 0, 0\n",
    "names = []\n",
    "for _ in range(5):\n",
    "    s = ''\n",
    "    while True:\n",
    "        xenc = F.one_hot(torch.tensor([x1, x2]), num_classes=27).float().view(-1,2*27)\n",
    "        logits = xenc @ W\n",
    "        counts = logits.exp()\n",
    "        p = counts / counts.sum(1, keepdim=True)\n",
    "        \n",
    "        val = torch.multinomial(p, num_samples = 1, replacement=True, generator=g).item()\n",
    "        x1, x2 = x2, val\n",
    "\n",
    "        names.append(val)\n",
    "        # print(val)\n",
    "    \n",
    "        s += itos[val]\n",
    "        if val == 0: break\n",
    "\n",
    "    print(s)\n",
    "print(names)"
   ]
  },
  {
   "cell_type": "code",
   "execution_count": null,
   "id": "534a403d-86bc-4b17-84ab-b3a239f6d6ef",
   "metadata": {},
   "outputs": [],
   "source": []
  }
 ],
 "metadata": {
  "kernelspec": {
   "display_name": "Python 3 (ipykernel)",
   "language": "python",
   "name": "python3"
  },
  "language_info": {
   "codemirror_mode": {
    "name": "ipython",
    "version": 3
   },
   "file_extension": ".py",
   "mimetype": "text/x-python",
   "name": "python",
   "nbconvert_exporter": "python",
   "pygments_lexer": "ipython3",
   "version": "3.12.3"
  }
 },
 "nbformat": 4,
 "nbformat_minor": 5
}
