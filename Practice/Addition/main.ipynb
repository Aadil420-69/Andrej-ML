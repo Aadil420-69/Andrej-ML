{
 "cells": [
  {
   "cell_type": "code",
   "execution_count": 1,
   "id": "71741512-492d-44cb-a053-7893ca78bd2a",
   "metadata": {},
   "outputs": [],
   "source": [
    "from itertools import combinations\n",
    "import random\n",
    "random.seed(42)\n",
    "\n",
    "import torch\n",
    "from torch import nn\n",
    "import torch.nn.functional as F"
   ]
  },
  {
   "cell_type": "code",
   "execution_count": 2,
   "id": "17511f1a-aed8-45cd-a7a8-14b59a5c24d3",
   "metadata": {},
   "outputs": [
    {
     "data": {
      "text/plain": [
       "190"
      ]
     },
     "execution_count": 2,
     "metadata": {},
     "output_type": "execute_result"
    }
   ],
   "source": [
    "nums = list(combinations(range(1, 21), 2))\n",
    "random.shuffle(nums)\n",
    "num_size = 10\n",
    "\n",
    "# targets = torch.tensor([sum(num) for num in nums])\n",
    "# targets.shape\n",
    "len(nums)"
   ]
  },
  {
   "cell_type": "code",
   "execution_count": 3,
   "id": "f77477df-7025-42a9-b804-d14b34437774",
   "metadata": {},
   "outputs": [],
   "source": [
    "# hyperparameters\n",
    "batch_size = 4\t# how many independent processes will we process in parallel\n",
    "block_size = 8\t# whar is the maximum context length for prediction\n",
    "max_iters = 5000\n",
    "eval_intervals = 500\n",
    "learning_rate = 3e-4\n",
    "device = 'cuda' if torch.cuda.is_available() else 'cpu'\n",
    "eval_iters = 200\n",
    "n_embd = 32\n",
    "n_head = 6\n",
    "n_layer = 6\n",
    "dropout = 0.2\n"
   ]
  },
  {
   "cell_type": "code",
   "execution_count": 4,
   "id": "186da172-e97d-4bd1-b14c-f862a5cd9a7e",
   "metadata": {},
   "outputs": [],
   "source": [
    "text = list('0123456789+=$')\n",
    "itos = dict(enumerate(text))\n",
    "stoi = {s: i for i, s in enumerate(text)}"
   ]
  },
  {
   "cell_type": "code",
   "execution_count": 5,
   "id": "8333d989-7ee3-4e09-8b6e-21f810e6b606",
   "metadata": {},
   "outputs": [],
   "source": [
    "decode = lambda arr: ''.join(itos[char] for char in arr if itos[char] != '$')\n",
    "e = lambda s: list(stoi[char] for char in s)\n",
    "\n",
    "def encode(arr: list[int]):\n",
    "    # arr.append(sum(arr))\n",
    "    n = block_size - len(arr) - sum(len(str(num)) for num in arr)\n",
    "    if n < 0:\n",
    "        print('ERROR')\n",
    "        print(arr, n)\n",
    "\n",
    "    out = e('$')*n\n",
    "    for char in arr:\n",
    "        out += e(str(char) + '+')\n",
    "    out = out[:-1] + e('=')\n",
    "    # out = out[:-1] + e('=' + str(arr[-1]))\n",
    "\n",
    "    return (out, e(str(sum(arr))))\n",
    "\n",
    "# def encode(arr: list[int]):\n",
    "#     arr = list(arr)\n",
    "#     arr.append(sum(arr))\n",
    "#     n = (block_size - len(arr) - sum(len(str(num)) for num in arr) ) // len(arr)\n",
    "\n",
    "#     out = []\n",
    "#     [out.extend(arr) for arr in [[stoi['0']]*n + [stoi[i] for i in str(num)] + [stoi['+']] for num in arr[:-1]]]\n",
    "#     out.pop(-1)\n",
    "#     out.extend([stoi['=']] + (block_size - len(out) - 1 - len(str(arr[-1])))*[stoi['0']] + [stoi[i] for i in str(arr[-1])])\n",
    "\n",
    "#     return out\n",
    "\n",
    "# def encode(s: str):\n",
    "#     arr = s.split('+')\n",
    "#     arr += arr.pop(-1).split('=')\n",
    "#     n = (block_size - len(s)) // len(arr)\n",
    "#     out = ''.join('0'*n + num + '+' for num in arr[:-1])\n",
    "#     out = out[:-1] + '=' + (block_size - len(out) - len(arr[-1]))*'0' + arr[-1]\n",
    "#     out = [stoi[i] for i in out]\n",
    "#     return out\n",
    "\n",
    "# encode = lambda s: [stoi[char] for char in s]"
   ]
  },
  {
   "cell_type": "code",
   "execution_count": 6,
   "id": "f17e967a-8b9f-43f6-a07d-e6485cdbf028",
   "metadata": {},
   "outputs": [
    {
     "name": "stdout",
     "output_type": "stream",
     "text": [
      "([12, 12, 1, 0, 10, 1, 1, 11], [2, 1])\n",
      "['10+11=', '21']\n"
     ]
    }
   ],
   "source": [
    "print(encode([10, 11]))\n",
    "print([decode(i) for i in encode([10, 11])])"
   ]
  },
  {
   "cell_type": "code",
   "execution_count": 7,
   "id": "f376f729-6d8d-4e01-81cf-4e357eebfdd1",
   "metadata": {},
   "outputs": [
    {
     "name": "stdout",
     "output_type": "stream",
     "text": [
      "tensor([[12, 12, 12, 12,  1, 10,  4, 11],\n",
      "        [12, 12, 12,  4, 10,  1,  5, 11],\n",
      "        [12, 12,  4, 10,  1,  5, 11,  1],\n",
      "        [12, 12, 12,  1, 10,  1,  4, 11],\n",
      "        [12, 12,  1, 10,  1,  4, 11,  1]])\n",
      "tensor([5, 1, 9, 1, 5])\n"
     ]
    }
   ],
   "source": [
    "# train test split\n",
    "X = []\n",
    "Y = []\n",
    "for num in nums:\n",
    "    arr, res = encode(num)\n",
    "    for y in res:\n",
    "        X.append(arr)\n",
    "        Y.append(y)\n",
    "        arr = arr[1:] + [y]\n",
    "\n",
    "X = torch.tensor(X)\n",
    "Y = torch.tensor(Y)\n",
    "\n",
    "print(X[:5])\n",
    "print(Y[:5])\n",
    "\n",
    "n = int(0.9 * len(nums))\n",
    "train_X = X[:n]\n",
    "train_Y = Y[:n]\n",
    "val_X = X[n:]\n",
    "val_Y = Y[n:]"
   ]
  },
  {
   "cell_type": "code",
   "execution_count": 8,
   "id": "d2bd6b30-1ea0-49ef-ab95-3f411d52b7f0",
   "metadata": {},
   "outputs": [
    {
     "name": "stdout",
     "output_type": "stream",
     "text": [
      "tensor([163, 112, 104, 106])\n",
      "(tensor([[12, 12,  5, 10,  1,  9, 11,  2],\n",
      "        [12, 12, 12,  3, 10,  1,  0, 11],\n",
      "        [12,  1,  1, 10,  2,  0, 11,  3],\n",
      "        [12,  1,  1, 10,  1,  5, 11,  2]]), tensor([4, 1, 1, 6]))\n"
     ]
    }
   ],
   "source": [
    "torch.manual_seed(1337)\n",
    "def get_batch(split):\n",
    "    data = [train_X, train_Y] if split == \"train\" else [val_X, val_Y]\n",
    "    ix = torch.randint(len(data[0]), (batch_size, ))\n",
    "    print(ix)\n",
    "\n",
    "    x = torch.stack([data[0][i] for i in ix])\n",
    "    y = torch.stack([data[1][i] for i in ix])\n",
    "    #x = torch.stack([data[i:i+block_size] for i in ix])\n",
    "    #y = torch.stack([data[i+1:i+block_size+1] for i in ix])\n",
    "\n",
    "    x, y = x.to(device), y.to(device)\n",
    "    return x, y\n",
    "\n",
    "print(get_batch(\"train\"))\n"
   ]
  },
  {
   "cell_type": "markdown",
   "id": "5716a28f-b780-4b49-82bb-8935748b5569",
   "metadata": {},
   "source": [
    "# New Data System"
   ]
  },
  {
   "cell_type": "code",
   "execution_count": 22,
   "id": "3e312de8-602f-4e27-a76f-cc476234632a",
   "metadata": {},
   "outputs": [
    {
     "data": {
      "text/plain": [
       "190"
      ]
     },
     "execution_count": 22,
     "metadata": {},
     "output_type": "execute_result"
    }
   ],
   "source": [
    "res_number = 2\n",
    "nums = list(combinations(range(1, 21), 2))\n",
    "random.shuffle(nums)\n",
    "\n",
    "n = int(0.9*len(nums))\n",
    "train_nums = torch.tensor(nums[:n], dtype=torch.long, device=device)\n",
    "val_nums = torch.tensor(nums[n:], dtype=torch.long, device=device)\n",
    "\n",
    "num_size = 16\n",
    "len(nums)"
   ]
  },
  {
   "cell_type": "code",
   "execution_count": 21,
   "id": "35e67cf4-03b7-4f95-bd1e-895473ed8848",
   "metadata": {},
   "outputs": [
    {
     "data": {
      "text/plain": [
       "(torch.Size([171, 2]), torch.Size([19, 2]))"
      ]
     },
     "execution_count": 21,
     "metadata": {},
     "output_type": "execute_result"
    }
   ],
   "source": [
    "train_nums.shape, val_nums.shape"
   ]
  },
  {
   "cell_type": "code",
   "execution_count": 46,
   "id": "3ccc75bb-26f8-4e9f-98db-9409266dc018",
   "metadata": {},
   "outputs": [
    {
     "name": "stdout",
     "output_type": "stream",
     "text": [
      "[12, 12, 1, 0, 10, 1, 1, 11, 2, 1]\n",
      "([12, 1, 0, 10, 1, 1, 11, 2], [1, 0, 10, 1, 1, 11, 2, 1])\n",
      "tensor([[12,  1,  0, 10,  1,  1, 11,  2],\n",
      "        [ 1,  0, 10,  1,  1, 11,  2,  1]])\n"
     ]
    }
   ],
   "source": [
    "# decode = lambda arr: ''.join(itos[char] for char in arr if itos[char] != '$')\n",
    "decode = lambda arr: ''.join(itos[char] for char in arr)\n",
    "e = lambda s: list(stoi[char] for char in s)\n",
    "\n",
    "def encode(arr: list[int], r: int, tensor: bool =False) -> tuple[list[int], list[int]]:\n",
    "    if tensor: arr = arr.tolist()\n",
    "    # print(f'{block_size=}\\n{len(arr)=}\\n{sum(len(str(num)) for num in arr)=}')\n",
    "    n = block_size - len(arr) - sum(len(str(num)) for num in arr)\n",
    "    if n < 0:\n",
    "        print('ERROR')\n",
    "        print(arr, n)\n",
    "\n",
    "    out1 = e('$')*n\n",
    "    for char in arr:\n",
    "        out1 += e(str(char) + '+')\n",
    "    out1 = out1[:-1] + e('=')\n",
    "\n",
    "    summ = str(sum(arr))\n",
    "    out2 = e('0'*(res_number - len(summ)) + summ)\n",
    "\n",
    "    out = out1 + out2\n",
    "    out1 = out[r:][: block_size]\n",
    "    out2 = out[r+1:][: block_size]\n",
    "\n",
    "    if tensor:\n",
    "        return torch.tensor((out1, out2), dtype=torch.long, device=device)\n",
    "    return (out1, out2)\n",
    "print(e('$$10+11=21'))\n",
    "print(encode([10, 11], 1))\n",
    "print(encode(torch.tensor([10, 11]), 1, True))\n"
   ]
  },
  {
   "cell_type": "code",
   "execution_count": 47,
   "id": "2c9b181d-9330-4814-8696-e5f35c87a264",
   "metadata": {},
   "outputs": [
    {
     "name": "stdout",
     "output_type": "stream",
     "text": [
      "[0, 1, 2, 3, 4, 5, 6, 7, 8, 9, 10, 11, 12, 13, 14, 15, 16, 17, 18, 19]\n"
     ]
    },
    {
     "data": {
      "text/plain": [
       "[5, 4]"
      ]
     },
     "execution_count": 47,
     "metadata": {},
     "output_type": "execute_result"
    }
   ],
   "source": [
    "arr = list(range(20))\n",
    "print(arr)\n",
    "arr[:5]\n",
    "\n",
    "t = torch.tensor([5, 4])\n",
    "t.tolist()"
   ]
  },
  {
   "cell_type": "code",
   "execution_count": 57,
   "id": "d1a58f99-411d-426d-9d86-8738d72f6dbf",
   "metadata": {},
   "outputs": [
    {
     "name": "stdout",
     "output_type": "stream",
     "text": [
      "tensor([163, 283, 104, 106])\n",
      "tensor([[[12, 12,  8, 10,  1,  3, 11,  2],\n",
      "         [12,  8, 10,  1,  3, 11,  2,  1]],\n",
      "\n",
      "        [[12, 12,  2, 10,  1,  8, 11,  2],\n",
      "         [12,  2, 10,  1,  8, 11,  2,  0]],\n",
      "\n",
      "        [[12, 12, 12, 12,  1, 10,  3, 11],\n",
      "         [12, 12, 12,  1, 10,  3, 11,  0]],\n",
      "\n",
      "        [[12, 12, 12,  7, 10,  1,  4, 11],\n",
      "         [12, 12,  7, 10,  1,  4, 11,  2]]])\n"
     ]
    }
   ],
   "source": [
    "torch.manual_seed(1337)\n",
    "def get_batch(split: str):\n",
    "    data = train_nums if split == \"train\" else val_nums\n",
    "    ix = torch.randint(len(data) * res_number, (4, ))\n",
    "    print(ix)\n",
    "\n",
    "    x = torch.stack([encode(data[i//res_number], i%res_number, True) for i in ix])\n",
    "    # y = torch.stack([data[1][i] for i in ix])\n",
    "\n",
    "    # x, y = x.to(device), y.to(device)\n",
    "    # return x, y\n",
    "    return x\n",
    "\n",
    "print(get_batch(\"train\"))\n"
   ]
  },
  {
   "cell_type": "code",
   "execution_count": 56,
   "id": "9da18ced-e5d7-4510-b9e2-8fa759e801cb",
   "metadata": {},
   "outputs": [
    {
     "name": "stdout",
     "output_type": "stream",
     "text": [
      "tensor([233, 162,  44, 324])\n",
      "tensor([[[12, 12,  4, 10,  2,  0, 11,  2],\n",
      "         [12,  4, 10,  2,  0, 11,  2,  4]],\n",
      "\n",
      "        [[12, 12, 12,  8, 10,  1,  3, 11],\n",
      "         [12, 12,  8, 10,  1,  3, 11,  2]],\n",
      "\n",
      "        [[12, 12,  1,  4, 10,  1,  7, 11],\n",
      "         [12,  1,  4, 10,  1,  7, 11,  3]],\n",
      "\n",
      "        [[12, 12, 12,  6, 10,  1,  4, 11],\n",
      "         [12, 12,  6, 10,  1,  4, 11,  2]]])\n"
     ]
    },
    {
     "data": {
      "text/plain": [
       "(tensor([[12, 12,  4, 10,  2,  0, 11,  2],\n",
       "         [12, 12, 12,  8, 10,  1,  3, 11],\n",
       "         [12, 12,  1,  4, 10,  1,  7, 11],\n",
       "         [12, 12, 12,  6, 10,  1,  4, 11]]),\n",
       " tensor([[12,  4, 10,  2,  0, 11,  2,  4],\n",
       "         [12, 12,  8, 10,  1,  3, 11,  2],\n",
       "         [12,  1,  4, 10,  1,  7, 11,  3],\n",
       "         [12, 12,  6, 10,  1,  4, 11,  2]]))"
      ]
     },
     "execution_count": 56,
     "metadata": {},
     "output_type": "execute_result"
    }
   ],
   "source": [
    "t = get_batch(\"train\")\n",
    "print(t)\n",
    "X = t[:, 0, :]\n",
    "Y = t[:, 1, :]\n",
    "X, Y"
   ]
  },
  {
   "cell_type": "code",
   "execution_count": 53,
   "id": "d4dadb87-cf8b-4f0c-98e5-83a7b1550bbd",
   "metadata": {},
   "outputs": [
    {
     "data": {
      "text/plain": [
       "torch.Size([4, 2, 8])"
      ]
     },
     "execution_count": 53,
     "metadata": {},
     "output_type": "execute_result"
    }
   ],
   "source": [
    "X.shape"
   ]
  },
  {
   "cell_type": "code",
   "execution_count": null,
   "id": "5b8e730f-e910-4ab4-b4bb-2a65f5b5f4db",
   "metadata": {},
   "outputs": [],
   "source": []
  }
 ],
 "metadata": {
  "kernelspec": {
   "display_name": "Python 3 (ipykernel)",
   "language": "python",
   "name": "python3"
  },
  "language_info": {
   "codemirror_mode": {
    "name": "ipython",
    "version": 3
   },
   "file_extension": ".py",
   "mimetype": "text/x-python",
   "name": "python",
   "nbconvert_exporter": "python",
   "pygments_lexer": "ipython3",
   "version": "3.12.3"
  }
 },
 "nbformat": 4,
 "nbformat_minor": 5
}
